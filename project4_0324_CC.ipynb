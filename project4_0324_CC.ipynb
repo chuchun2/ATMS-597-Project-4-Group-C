{
  "nbformat": 4,
  "nbformat_minor": 0,
  "metadata": {
    "colab": {
      "name": "project4_0324_CC.ipynb",
      "provenance": [],
      "collapsed_sections": [],
      "include_colab_link": true
    },
    "kernelspec": {
      "name": "python3",
      "display_name": "Python 3"
    }
  },
  "cells": [
    {
      "cell_type": "markdown",
      "metadata": {
        "id": "view-in-github",
        "colab_type": "text"
      },
      "source": [
        "<a href=\"https://colab.research.google.com/github/chuchun2/ATMS-597-Project-4-Group-C/blob/edit_chuchun/project4_0324_CC.ipynb\" target=\"_parent\"><img src=\"https://colab.research.google.com/assets/colab-badge.svg\" alt=\"Open In Colab\"/></a>"
      ]
    },
    {
      "cell_type": "markdown",
      "metadata": {
        "id": "yO3amLYIvTjR",
        "colab_type": "text"
      },
      "source": [
        "# Imports"
      ]
    },
    {
      "cell_type": "markdown",
      "metadata": {
        "id": "eNOPQKvWvV8-",
        "colab_type": "text"
      },
      "source": [
        "Import Libraries"
      ]
    },
    {
      "cell_type": "code",
      "metadata": {
        "id": "55pWVpDPHiUl",
        "colab_type": "code",
        "colab": {}
      },
      "source": [
        "import tarfile\n",
        "import pandas as pd\n",
        "import os"
      ],
      "execution_count": 0,
      "outputs": []
    },
    {
      "cell_type": "code",
      "metadata": {
        "id": "Klp25IS9HgpD",
        "colab_type": "code",
        "colab": {}
      },
      "source": [
        "# Import Libraries for section \"Linear regression model\"\n",
        "%matplotlib inline\n",
        "import matplotlib.pyplot as plt\n",
        "import seaborn as sns; sns.set()\n",
        "import numpy as np"
      ],
      "execution_count": 0,
      "outputs": []
    },
    {
      "cell_type": "code",
      "metadata": {
        "id": "aHABP3T2tqeI",
        "colab_type": "code",
        "outputId": "94ac701c-3157-42e7-bd67-6c330b2f18a3",
        "colab": {
          "base_uri": "https://localhost:8080/",
          "height": 123
        }
      },
      "source": [
        "from google.colab import drive\n",
        "drive.mount('/content/drive')"
      ],
      "execution_count": 1,
      "outputs": [
        {
          "output_type": "stream",
          "text": [
            "Go to this URL in a browser: https://accounts.google.com/o/oauth2/auth?client_id=947318989803-6bn6qk8qdgf4n4g3pfee6491hc0brc4i.apps.googleusercontent.com&redirect_uri=urn%3aietf%3awg%3aoauth%3a2.0%3aoob&response_type=code&scope=email%20https%3a%2f%2fwww.googleapis.com%2fauth%2fdocs.test%20https%3a%2f%2fwww.googleapis.com%2fauth%2fdrive%20https%3a%2f%2fwww.googleapis.com%2fauth%2fdrive.photos.readonly%20https%3a%2f%2fwww.googleapis.com%2fauth%2fpeopleapi.readonly\n",
            "\n",
            "Enter your authorization code:\n",
            "··········\n",
            "Mounted at /content/drive\n"
          ],
          "name": "stdout"
        }
      ]
    },
    {
      "cell_type": "markdown",
      "metadata": {
        "id": "hIpjQNvXvc6J",
        "colab_type": "text"
      },
      "source": [
        "Set Your Directory"
      ]
    },
    {
      "cell_type": "code",
      "metadata": {
        "id": "W_UolI2kvJ9Y",
        "colab_type": "code",
        "colab": {}
      },
      "source": [
        "#YOUR_DIRECTORY = '/content/drive/My Drive/Colab Notebooks/ATMS597/project4/' #Sarah\n",
        "# YOUR_DIRECTORY = '/content/drive/My Drive/Colab Notebooks/ATMS 597/P04/' #Cathy\n",
        "YOUR_DIRECTORY = '/content/drive/My Drive/ATMS597 Weather Climate Data Analysis/Module 4/Project 4/' #Chu-Chun"
      ],
      "execution_count": 0,
      "outputs": []
    },
    {
      "cell_type": "markdown",
      "metadata": {
        "id": "qJTBAVi9veNy",
        "colab_type": "text"
      },
      "source": [
        "Import GFS data and save to pd.DataFrame"
      ]
    },
    {
      "cell_type": "code",
      "metadata": {
        "id": "cxJsR6LYvuI1",
        "colab_type": "code",
        "outputId": "829445af-bcd1-41e8-ffb1-6e834842c85d",
        "colab": {
          "base_uri": "https://localhost:8080/",
          "height": 189
        }
      },
      "source": [
        "daily = tarfile.open(name = YOUR_DIRECTORY + 'daily.tar.gz') # Set the archive for opening\n",
        "\n",
        "# Aggregate to PD DataFrame\n",
        "cur_file = daily.next() # Initiate while loop using the first file in the tar archive\n",
        "daily_gfs = pd.DataFrame(columns=['TMAX', 'TMIN', 'WMAX', 'RTOT'])\n",
        "i = 0\n",
        "while cur_file != None:\n",
        "    i += 1\n",
        "    if i % 350 == 0:\n",
        "        print(float(i/3500))\n",
        "    working_file = YOUR_DIRECTORY + cur_file.name\n",
        "    daily.extract(cur_file, path=YOUR_DIRECTORY) # Extract TarInfo Object\n",
        "    convert_to_df = pd.read_csv(working_file, index_col=0, parse_dates=True, \n",
        "                                infer_datetime_format=True) # Convert cur_file \n",
        "                                # (TarInfo Object) to string, then to PD; convert\n",
        "                                # index col to DateTime\n",
        "    daily_gfs = daily_gfs.append(convert_to_df) # Append PD to DF\n",
        "    os.remove(working_file) # Remove file extracted in directory\n",
        "    cur_file = daily.next() # Go to next file in archive\n",
        "\n",
        "daily_gfs['TMAX'] = daily_gfs['TMAX'].apply(lambda x: (x*(9/5))).apply(lambda x: x+32) # Change TMAX to Celsius\n",
        "daily_gfs['TMIN'] = daily_gfs['TMIN'].apply(lambda x: (x*(9/5))).apply(lambda x: x+32) # Change TMIN to Celsius\n",
        "daily.close() # Close .tar"
      ],
      "execution_count": 3,
      "outputs": [
        {
          "output_type": "stream",
          "text": [
            "0.1\n",
            "0.2\n",
            "0.3\n",
            "0.4\n",
            "0.5\n",
            "0.6\n",
            "0.7\n",
            "0.8\n",
            "0.9\n",
            "1.0\n"
          ],
          "name": "stdout"
        }
      ]
    },
    {
      "cell_type": "code",
      "metadata": {
        "id": "DgmodcEDawtJ",
        "colab_type": "code",
        "outputId": "681c9d92-c3f0-4ee0-f6de-f5b959537e08",
        "colab": {
          "base_uri": "https://localhost:8080/",
          "height": 409
        }
      },
      "source": [
        "daily_gfs"
      ],
      "execution_count": 4,
      "outputs": [
        {
          "output_type": "execute_result",
          "data": {
            "text/html": [
              "<div>\n",
              "<style scoped>\n",
              "    .dataframe tbody tr th:only-of-type {\n",
              "        vertical-align: middle;\n",
              "    }\n",
              "\n",
              "    .dataframe tbody tr th {\n",
              "        vertical-align: top;\n",
              "    }\n",
              "\n",
              "    .dataframe thead th {\n",
              "        text-align: right;\n",
              "    }\n",
              "</style>\n",
              "<table border=\"1\" class=\"dataframe\">\n",
              "  <thead>\n",
              "    <tr style=\"text-align: right;\">\n",
              "      <th></th>\n",
              "      <th>TMAX</th>\n",
              "      <th>TMIN</th>\n",
              "      <th>WMAX</th>\n",
              "      <th>RTOT</th>\n",
              "    </tr>\n",
              "  </thead>\n",
              "  <tbody>\n",
              "    <tr>\n",
              "      <th>2010-01-01 12:00:00</th>\n",
              "      <td>11.732</td>\n",
              "      <td>2.372</td>\n",
              "      <td>7.323933</td>\n",
              "      <td>0.05</td>\n",
              "    </tr>\n",
              "    <tr>\n",
              "      <th>2010-01-02 12:00:00</th>\n",
              "      <td>13.712</td>\n",
              "      <td>3.272</td>\n",
              "      <td>4.687217</td>\n",
              "      <td>0.00</td>\n",
              "    </tr>\n",
              "    <tr>\n",
              "      <th>2010-01-03 12:00:00</th>\n",
              "      <td>14.072</td>\n",
              "      <td>6.152</td>\n",
              "      <td>5.941380</td>\n",
              "      <td>0.06</td>\n",
              "    </tr>\n",
              "    <tr>\n",
              "      <th>2010-01-04 12:00:00</th>\n",
              "      <td>16.772</td>\n",
              "      <td>8.852</td>\n",
              "      <td>5.685068</td>\n",
              "      <td>0.17</td>\n",
              "    </tr>\n",
              "    <tr>\n",
              "      <th>2010-01-05 12:00:00</th>\n",
              "      <td>19.112</td>\n",
              "      <td>12.092</td>\n",
              "      <td>3.794733</td>\n",
              "      <td>0.77</td>\n",
              "    </tr>\n",
              "    <tr>\n",
              "      <th>...</th>\n",
              "      <td>...</td>\n",
              "      <td>...</td>\n",
              "      <td>...</td>\n",
              "      <td>...</td>\n",
              "    </tr>\n",
              "    <tr>\n",
              "      <th>2020-01-27 12:00:00</th>\n",
              "      <td>33.512</td>\n",
              "      <td>29.732</td>\n",
              "      <td>1.984943</td>\n",
              "      <td>0.29</td>\n",
              "    </tr>\n",
              "    <tr>\n",
              "      <th>2020-01-28 12:00:00</th>\n",
              "      <td>34.592</td>\n",
              "      <td>27.392</td>\n",
              "      <td>2.319483</td>\n",
              "      <td>0.57</td>\n",
              "    </tr>\n",
              "    <tr>\n",
              "      <th>2020-01-29 12:00:00</th>\n",
              "      <td>36.212</td>\n",
              "      <td>27.572</td>\n",
              "      <td>1.802776</td>\n",
              "      <td>0.00</td>\n",
              "    </tr>\n",
              "    <tr>\n",
              "      <th>2020-01-30 12:00:00</th>\n",
              "      <td>37.112</td>\n",
              "      <td>30.092</td>\n",
              "      <td>2.121320</td>\n",
              "      <td>1.13</td>\n",
              "    </tr>\n",
              "    <tr>\n",
              "      <th>2020-01-31 12:00:00</th>\n",
              "      <td>37.832</td>\n",
              "      <td>32.432</td>\n",
              "      <td>6.835934</td>\n",
              "      <td>1.27</td>\n",
              "    </tr>\n",
              "  </tbody>\n",
              "</table>\n",
              "<p>3645 rows × 4 columns</p>\n",
              "</div>"
            ],
            "text/plain": [
              "                       TMAX    TMIN      WMAX  RTOT\n",
              "2010-01-01 12:00:00  11.732   2.372  7.323933  0.05\n",
              "2010-01-02 12:00:00  13.712   3.272  4.687217  0.00\n",
              "2010-01-03 12:00:00  14.072   6.152  5.941380  0.06\n",
              "2010-01-04 12:00:00  16.772   8.852  5.685068  0.17\n",
              "2010-01-05 12:00:00  19.112  12.092  3.794733  0.77\n",
              "...                     ...     ...       ...   ...\n",
              "2020-01-27 12:00:00  33.512  29.732  1.984943  0.29\n",
              "2020-01-28 12:00:00  34.592  27.392  2.319483  0.57\n",
              "2020-01-29 12:00:00  36.212  27.572  1.802776  0.00\n",
              "2020-01-30 12:00:00  37.112  30.092  2.121320  1.13\n",
              "2020-01-31 12:00:00  37.832  32.432  6.835934  1.27\n",
              "\n",
              "[3645 rows x 4 columns]"
            ]
          },
          "metadata": {
            "tags": []
          },
          "execution_count": 4
        }
      ]
    },
    {
      "cell_type": "code",
      "metadata": {
        "id": "dLBoEmO93ze_",
        "colab_type": "code",
        "outputId": "5accccce-71e2-4cac-a982-cd9c31fc34b4",
        "colab": {
          "base_uri": "https://localhost:8080/",
          "height": 223
        }
      },
      "source": [
        "daily_gfs.index"
      ],
      "execution_count": 5,
      "outputs": [
        {
          "output_type": "execute_result",
          "data": {
            "text/plain": [
              "DatetimeIndex(['2010-01-01 12:00:00', '2010-01-02 12:00:00',\n",
              "               '2010-01-03 12:00:00', '2010-01-04 12:00:00',\n",
              "               '2010-01-05 12:00:00', '2010-01-06 12:00:00',\n",
              "               '2010-01-07 12:00:00', '2010-01-08 12:00:00',\n",
              "               '2010-01-09 12:00:00', '2010-01-10 12:00:00',\n",
              "               ...\n",
              "               '2020-01-22 12:00:00', '2020-01-23 12:00:00',\n",
              "               '2020-01-24 12:00:00', '2020-01-25 12:00:00',\n",
              "               '2020-01-26 12:00:00', '2020-01-27 12:00:00',\n",
              "               '2020-01-28 12:00:00', '2020-01-29 12:00:00',\n",
              "               '2020-01-30 12:00:00', '2020-01-31 12:00:00'],\n",
              "              dtype='datetime64[ns]', length=3645, freq=None)"
            ]
          },
          "metadata": {
            "tags": []
          },
          "execution_count": 5
        }
      ]
    },
    {
      "cell_type": "code",
      "metadata": {
        "id": "_ktAkzfMXFaT",
        "colab_type": "code",
        "outputId": "8bacd856-e603-461d-e63d-c2fa299f71f7",
        "colab": {
          "base_uri": "https://localhost:8080/",
          "height": 361
        }
      },
      "source": [
        "# find missing dates\n",
        "missing_daily_gfs = pd.date_range(start = '2010-01-01 12:00:00', end = '2020-01-31 12:00:00', freq='D').difference(daily_gfs.index)\n",
        "missing_daily_gfs\n",
        "# len(missing_daily_gfs)"
      ],
      "execution_count": 8,
      "outputs": [
        {
          "output_type": "execute_result",
          "data": {
            "text/plain": [
              "DatetimeIndex(['2010-06-20 12:00:00', '2013-08-16 12:00:00',\n",
              "               '2013-08-17 12:00:00', '2013-08-18 12:00:00',\n",
              "               '2014-04-05 12:00:00', '2014-05-03 12:00:00',\n",
              "               '2014-05-04 12:00:00', '2014-05-05 12:00:00',\n",
              "               '2014-05-06 12:00:00', '2014-05-07 12:00:00',\n",
              "               '2014-05-08 12:00:00', '2014-05-09 12:00:00',\n",
              "               '2014-05-10 12:00:00', '2014-05-11 12:00:00',\n",
              "               '2014-10-11 12:00:00', '2014-12-19 12:00:00',\n",
              "               '2015-04-18 12:00:00', '2015-06-23 12:00:00',\n",
              "               '2015-10-10 12:00:00', '2016-04-09 12:00:00',\n",
              "               '2016-04-10 12:00:00', '2017-04-15 12:00:00',\n",
              "               '2017-07-19 12:00:00', '2017-07-20 12:00:00',\n",
              "               '2017-07-21 12:00:00', '2017-07-22 12:00:00',\n",
              "               '2017-07-23 12:00:00', '2017-07-24 12:00:00',\n",
              "               '2017-07-25 12:00:00', '2017-07-26 12:00:00',\n",
              "               '2017-07-27 12:00:00', '2017-07-28 12:00:00',\n",
              "               '2017-07-29 12:00:00', '2017-07-30 12:00:00',\n",
              "               '2017-07-31 12:00:00', '2018-04-14 12:00:00',\n",
              "               '2018-05-12 12:00:00', '2019-04-13 12:00:00'],\n",
              "              dtype='datetime64[ns]', freq=None)"
            ]
          },
          "metadata": {
            "tags": []
          },
          "execution_count": 8
        }
      ]
    },
    {
      "cell_type": "code",
      "metadata": {
        "id": "0_YlLGtdnKqQ",
        "colab_type": "code",
        "outputId": "6d84dfa4-626a-46f2-fa3c-5ff29c654ff2",
        "colab": {
          "base_uri": "https://localhost:8080/",
          "height": 753
        }
      },
      "source": [
        "# profile gfs data\n",
        "prof = tarfile.open(name = YOUR_DIRECTORY + 'prof.tar.gz') # Set the archive for opening\n",
        "\n",
        "# Aggregate to PD DataFrame\n",
        "cur_file = prof.next() # Initiate while loop using the first file in the tar archive\n",
        "prof_gfs = pd.DataFrame(columns=['DWPC','HGHT','PRES','TMPC','UWND','VWND'])\n",
        "i = 0\n",
        "while cur_file != None:\n",
        "    i += 1\n",
        "    if i % 350 == 0:\n",
        "        print(float(i/3500))\n",
        "    working_file = YOUR_DIRECTORY + cur_file.name\n",
        "    prof.extract(cur_file, path=YOUR_DIRECTORY) # Extract TarInfo Object\n",
        "    convert_to_df = pd.read_csv(working_file, index_col=0, parse_dates=True, \n",
        "                                infer_datetime_format=True) # Convert cur_file \n",
        "                                # (TarInfo Object) to string, then to PD; convert\n",
        "                                # index col to DateTime\n",
        "    prof_gfs = prof_gfs.append(convert_to_df) # Append PD to DF\n",
        "    os.remove(working_file) # Remove file extracted in directory\n",
        "    cur_file = prof.next() # Go to next file in archive\n",
        "\n",
        "prof.close() # Close .tar\n",
        "\n",
        "prof_gfs"
      ],
      "execution_count": 9,
      "outputs": [
        {
          "output_type": "stream",
          "text": [
            "0.1\n",
            "0.2\n",
            "0.3\n",
            "0.4\n",
            "0.5\n",
            "0.6\n",
            "0.7\n",
            "0.8\n",
            "0.9\n",
            "1.0\n"
          ],
          "name": "stdout"
        },
        {
          "output_type": "execute_result",
          "data": {
            "text/html": [
              "<div>\n",
              "<style scoped>\n",
              "    .dataframe tbody tr th:only-of-type {\n",
              "        vertical-align: middle;\n",
              "    }\n",
              "\n",
              "    .dataframe tbody tr th {\n",
              "        vertical-align: top;\n",
              "    }\n",
              "\n",
              "    .dataframe thead th {\n",
              "        text-align: right;\n",
              "    }\n",
              "</style>\n",
              "<table border=\"1\" class=\"dataframe\">\n",
              "  <thead>\n",
              "    <tr style=\"text-align: right;\">\n",
              "      <th></th>\n",
              "      <th>DWPC</th>\n",
              "      <th>HGHT</th>\n",
              "      <th>PRES</th>\n",
              "      <th>TMPC</th>\n",
              "      <th>UWND</th>\n",
              "      <th>VWND</th>\n",
              "    </tr>\n",
              "  </thead>\n",
              "  <tbody>\n",
              "    <tr>\n",
              "      <th>2010-01-02 06:00:00</th>\n",
              "      <td>[-17.885416666666668, -22.15150234741784, -38....</td>\n",
              "      <td>[822.2693055555555, 1460.1033333333335, 2904.4...</td>\n",
              "      <td>[925.0, 850.0, 700.0, 500.0, 250.0, 100.0]</td>\n",
              "      <td>[-16.249583333333334, -16.52291079812207, -21....</td>\n",
              "      <td>[10.566530573750587, 4.214706046596407, 17.668...</td>\n",
              "      <td>[-21.60349159268254, -18.30022411700173, -29.5...</td>\n",
              "    </tr>\n",
              "    <tr>\n",
              "      <th>2010-01-02 09:00:00</th>\n",
              "      <td>[-19.453124999999996, -24.9388679245283, -42.0...</td>\n",
              "      <td>[822.0543749999998, 1459.7785849056602, 2907.4...</td>\n",
              "      <td>[925.0, 850.0, 700.0, 500.0, 250.0, 100.0]</td>\n",
              "      <td>[-17.247500000000002, -16.19490566037736, -20....</td>\n",
              "      <td>[13.681992680084207, 9.948942540840713, 19.953...</td>\n",
              "      <td>[-21.05132415236028, -17.798267800386434, -29....</td>\n",
              "    </tr>\n",
              "    <tr>\n",
              "      <th>2010-01-02 12:00:00</th>\n",
              "      <td>[-24.917708333333334, -29.536603773584904, -42...</td>\n",
              "      <td>[820.327638888889, 1459.582075471698, 2915.667...</td>\n",
              "      <td>[925.0, 850.0, 700.0, 500.0, 250.0, 100.0]</td>\n",
              "      <td>[-15.991249999999997, -15.280283018867925, -19...</td>\n",
              "      <td>[12.509088069631126, 14.999567192631927, 23.33...</td>\n",
              "      <td>[-25.372665670766228, -22.851012927878898, -32...</td>\n",
              "    </tr>\n",
              "    <tr>\n",
              "      <th>2010-01-02 15:00:00</th>\n",
              "      <td>[-29.030482758620682, -37.651971830985914, -43...</td>\n",
              "      <td>[826.2597241379308, 1463.5210798122066, 2927.6...</td>\n",
              "      <td>[925.0, 850.0, 700.0, 500.0, 250.0, 100.0]</td>\n",
              "      <td>[-18.595172413793104, -14.76, -16.487358490566...</td>\n",
              "      <td>[11.080763032604898, 13.737749044170894, 22.27...</td>\n",
              "      <td>[-20.65371472040801, -25.032875351390114, -38....</td>\n",
              "    </tr>\n",
              "    <tr>\n",
              "      <th>2010-01-02 18:00:00</th>\n",
              "      <td>[-24.84875862068967, -32.677452830188685, -41....</td>\n",
              "      <td>[823.4282758620693, 1458.4197169811318, 2927.1...</td>\n",
              "      <td>[925.0, 850.0, 700.0, 500.0, 250.0, 100.0]</td>\n",
              "      <td>[-19.58413793103448, -15.190188679245283, -15....</td>\n",
              "      <td>[11.173738737104433, 11.725204010079779, 25.07...</td>\n",
              "      <td>[-14.419104627678692, -22.850212323925128, -37...</td>\n",
              "    </tr>\n",
              "    <tr>\n",
              "      <th>...</th>\n",
              "      <td>...</td>\n",
              "      <td>...</td>\n",
              "      <td>...</td>\n",
              "      <td>...</td>\n",
              "      <td>...</td>\n",
              "      <td>...</td>\n",
              "    </tr>\n",
              "    <tr>\n",
              "      <th>2020-02-01 18:00:00</th>\n",
              "      <td>[-2.420708661417323, -9.530575916230358, -24.0...</td>\n",
              "      <td>[742.415748031496, 1411.5072251308898, 2941.86...</td>\n",
              "      <td>[925.0, 850.0, 700.0, 500.0, 250.0, 100.0]</td>\n",
              "      <td>[-2.2914960629921257, -2.228062827225135, -8.0...</td>\n",
              "      <td>[19.811216208528656, 21.260362044096723, 30.08...</td>\n",
              "      <td>[1.3604678475628496, -12.77327158763928, -28.9...</td>\n",
              "    </tr>\n",
              "    <tr>\n",
              "      <th>2020-02-01 21:00:00</th>\n",
              "      <td>[-2.7182608695652157, -14.782617801047117, -18...</td>\n",
              "      <td>[728.3838260869561, 1400.3076963350782, 2936.0...</td>\n",
              "      <td>[925.0, 850.0, 700.0, 500.0, 250.0, 100.0]</td>\n",
              "      <td>[-2.0765217391304316, -0.4961256544502628, -7....</td>\n",
              "      <td>[23.064567282086532, 29.518982185029717, 36.16...</td>\n",
              "      <td>[0.7999300627093688, -17.180421782239765, -26....</td>\n",
              "    </tr>\n",
              "    <tr>\n",
              "      <th>2020-02-02 00:00:00</th>\n",
              "      <td>[-2.8084210526315774, -24.81340314136124, -15....</td>\n",
              "      <td>[732.0842105263156, 1408.2601570680624, 2948.3...</td>\n",
              "      <td>[925.0, 850.0, 700.0, 500.0, 250.0, 100.0]</td>\n",
              "      <td>[-2.6178947368421035, 1.2138219895287963, -6.8...</td>\n",
              "      <td>[25.1585312681121, 28.268556591902666, 33.6927...</td>\n",
              "      <td>[-1.6826343774112273, -18.266906968792057, -26...</td>\n",
              "    </tr>\n",
              "    <tr>\n",
              "      <th>2020-02-02 03:00:00</th>\n",
              "      <td>[-2.5436842105263135, -20.719368421052636, -8....</td>\n",
              "      <td>[728.0584210526313, 1410.5297894736839, 2954.7...</td>\n",
              "      <td>[925.0, 850.0, 700.0, 500.0, 250.0, 100.0]</td>\n",
              "      <td>[-0.5178947368421041, 2.6589473684210545, -5.6...</td>\n",
              "      <td>[28.84389310205612, 26.622661595180148, 31.722...</td>\n",
              "      <td>[-1.9461498953626104, -9.480785181647251, -23....</td>\n",
              "    </tr>\n",
              "    <tr>\n",
              "      <th>2020-02-02 06:00:00</th>\n",
              "      <td>[-4.728596491228067, -3.893263157894732, -7.07...</td>\n",
              "      <td>[709.4249999999998, 1398.3312631578951, 2950.6...</td>\n",
              "      <td>[925.0, 850.0, 700.0, 500.0, 250.0, 100.0]</td>\n",
              "      <td>[3.580350877192981, 3.7905263157894726, -5.213...</td>\n",
              "      <td>[31.62194139739007, 33.37695796858031, 37.1255...</td>\n",
              "      <td>[1.0995607733895099, -9.735016287942436, -22.4...</td>\n",
              "    </tr>\n",
              "  </tbody>\n",
              "</table>\n",
              "<p>32805 rows × 6 columns</p>\n",
              "</div>"
            ],
            "text/plain": [
              "                                                                  DWPC  ...                                               VWND\n",
              "2010-01-02 06:00:00  [-17.885416666666668, -22.15150234741784, -38....  ...  [-21.60349159268254, -18.30022411700173, -29.5...\n",
              "2010-01-02 09:00:00  [-19.453124999999996, -24.9388679245283, -42.0...  ...  [-21.05132415236028, -17.798267800386434, -29....\n",
              "2010-01-02 12:00:00  [-24.917708333333334, -29.536603773584904, -42...  ...  [-25.372665670766228, -22.851012927878898, -32...\n",
              "2010-01-02 15:00:00  [-29.030482758620682, -37.651971830985914, -43...  ...  [-20.65371472040801, -25.032875351390114, -38....\n",
              "2010-01-02 18:00:00  [-24.84875862068967, -32.677452830188685, -41....  ...  [-14.419104627678692, -22.850212323925128, -37...\n",
              "...                                                                ...  ...                                                ...\n",
              "2020-02-01 18:00:00  [-2.420708661417323, -9.530575916230358, -24.0...  ...  [1.3604678475628496, -12.77327158763928, -28.9...\n",
              "2020-02-01 21:00:00  [-2.7182608695652157, -14.782617801047117, -18...  ...  [0.7999300627093688, -17.180421782239765, -26....\n",
              "2020-02-02 00:00:00  [-2.8084210526315774, -24.81340314136124, -15....  ...  [-1.6826343774112273, -18.266906968792057, -26...\n",
              "2020-02-02 03:00:00  [-2.5436842105263135, -20.719368421052636, -8....  ...  [-1.9461498953626104, -9.480785181647251, -23....\n",
              "2020-02-02 06:00:00  [-4.728596491228067, -3.893263157894732, -7.07...  ...  [1.0995607733895099, -9.735016287942436, -22.4...\n",
              "\n",
              "[32805 rows x 6 columns]"
            ]
          },
          "metadata": {
            "tags": []
          },
          "execution_count": 9
        }
      ]
    },
    {
      "cell_type": "code",
      "metadata": {
        "id": "p14tBcz5pTsg",
        "colab_type": "code",
        "outputId": "b009bd5e-9f8c-41e1-9260-47794476ba23",
        "colab": {
          "base_uri": "https://localhost:8080/",
          "height": 223
        }
      },
      "source": [
        "# find missing times\n",
        "missing_prof_gfs = pd.date_range(start = '2010-01-02 06:00:00', end = '2020-02-02 06:00:00', freq='6H').difference(prof_gfs.index)\n",
        "missing_prof_gfs\n",
        "\n",
        "# the result shows that len(missing_prof_gfs) < 4*len(missing_daily_gfs)...not sure how to go from here."
      ],
      "execution_count": 10,
      "outputs": [
        {
          "output_type": "execute_result",
          "data": {
            "text/plain": [
              "DatetimeIndex(['2010-06-21 12:00:00', '2010-06-21 18:00:00',\n",
              "               '2010-06-22 00:00:00', '2013-08-17 12:00:00',\n",
              "               '2013-08-17 18:00:00', '2013-08-18 00:00:00',\n",
              "               '2013-08-18 06:00:00', '2013-08-18 12:00:00',\n",
              "               '2013-08-18 18:00:00', '2013-08-19 00:00:00',\n",
              "               ...\n",
              "               '2017-08-02 00:00:00', '2018-04-15 12:00:00',\n",
              "               '2018-04-15 18:00:00', '2018-04-16 00:00:00',\n",
              "               '2018-05-13 12:00:00', '2018-05-13 18:00:00',\n",
              "               '2018-05-14 00:00:00', '2019-04-14 12:00:00',\n",
              "               '2019-04-14 18:00:00', '2019-04-15 00:00:00'],\n",
              "              dtype='datetime64[ns]', length=137, freq=None)"
            ]
          },
          "metadata": {
            "tags": []
          },
          "execution_count": 10
        }
      ]
    },
    {
      "cell_type": "code",
      "metadata": {
        "id": "3uO0BDALtuyx",
        "colab_type": "code",
        "outputId": "34befd45-9b0d-4c53-8807-b4bf4bab0f0c",
        "colab": {
          "base_uri": "https://localhost:8080/",
          "height": 581
        }
      },
      "source": [
        "# surface gfs data\n",
        "sfc = tarfile.open(name = YOUR_DIRECTORY + 'sfc.tar.gz') # Set the archive for opening\n",
        "\n",
        "# Aggregate to PD DataFrame\n",
        "cur_file = sfc.next() # Initiate while loop using the first file in the tar archive\n",
        "sfc_gfs = pd.DataFrame()\n",
        "i = 0\n",
        "while cur_file != None:\n",
        "    i += 1\n",
        "    if i % 350 == 0:\n",
        "        print(float(i/3500))\n",
        "    working_file = YOUR_DIRECTORY + cur_file.name\n",
        "    sfc.extract(cur_file, path=YOUR_DIRECTORY) # Extract TarInfo Object\n",
        "    convert_to_df = pd.read_csv(working_file, index_col=False).T # Convert cur_file \n",
        "                                # (TarInfo Object) to string, then to PD. Note that \n",
        "                                # the sfc files are transposed, i.e. they have \n",
        "                                # variables as rows and timestamps as columns, hence .T\n",
        "    sfc_gfs = sfc_gfs.append(convert_to_df) # Append PD to DF\n",
        "    os.remove(working_file) # Remove file extracted in directory\n",
        "    cur_file = sfc.next() # Go to next file in archive\n",
        "\n",
        "sfc.close() # Close .tar\n",
        "\n",
        "sfc_gfs"
      ],
      "execution_count": 11,
      "outputs": [
        {
          "output_type": "stream",
          "text": [
            "0.1\n",
            "0.2\n",
            "0.3\n",
            "0.4\n",
            "0.5\n",
            "0.6\n",
            "0.7\n",
            "0.8\n",
            "0.9\n",
            "1.0\n"
          ],
          "name": "stdout"
        },
        {
          "output_type": "execute_result",
          "data": {
            "text/html": [
              "<div>\n",
              "<style scoped>\n",
              "    .dataframe tbody tr th:only-of-type {\n",
              "        vertical-align: middle;\n",
              "    }\n",
              "\n",
              "    .dataframe tbody tr th {\n",
              "        vertical-align: top;\n",
              "    }\n",
              "\n",
              "    .dataframe thead th {\n",
              "        text-align: right;\n",
              "    }\n",
              "</style>\n",
              "<table border=\"1\" class=\"dataframe\">\n",
              "  <thead>\n",
              "    <tr style=\"text-align: right;\">\n",
              "      <th></th>\n",
              "      <th>0</th>\n",
              "      <th>1</th>\n",
              "      <th>2</th>\n",
              "      <th>3</th>\n",
              "      <th>4</th>\n",
              "      <th>5</th>\n",
              "      <th>6</th>\n",
              "      <th>7</th>\n",
              "      <th>8</th>\n",
              "      <th>9</th>\n",
              "    </tr>\n",
              "  </thead>\n",
              "  <tbody>\n",
              "    <tr>\n",
              "      <th>Unnamed: 0</th>\n",
              "      <td>DWPC</td>\n",
              "      <td>HCLD</td>\n",
              "      <td>LCLD</td>\n",
              "      <td>MCLD</td>\n",
              "      <td>PRCP</td>\n",
              "      <td>PRES</td>\n",
              "      <td>TMPC</td>\n",
              "      <td>UWND</td>\n",
              "      <td>VWND</td>\n",
              "      <td>WSPD</td>\n",
              "    </tr>\n",
              "    <tr>\n",
              "      <th>2010-01-02 06:00:00</th>\n",
              "      <td>-13.74</td>\n",
              "      <td>0</td>\n",
              "      <td>100</td>\n",
              "      <td>1</td>\n",
              "      <td>0</td>\n",
              "      <td>1000</td>\n",
              "      <td>-11.26</td>\n",
              "      <td>4.3</td>\n",
              "      <td>-5.4</td>\n",
              "      <td>6.9029</td>\n",
              "    </tr>\n",
              "    <tr>\n",
              "      <th>2010-01-02 09:00:00</th>\n",
              "      <td>-15.19</td>\n",
              "      <td>0</td>\n",
              "      <td>100</td>\n",
              "      <td>0</td>\n",
              "      <td>0.04</td>\n",
              "      <td>1000.4</td>\n",
              "      <td>-12.66</td>\n",
              "      <td>4.9</td>\n",
              "      <td>-5.3</td>\n",
              "      <td>7.21803</td>\n",
              "    </tr>\n",
              "    <tr>\n",
              "      <th>2010-01-02 12:00:00</th>\n",
              "      <td>-17.91</td>\n",
              "      <td>0</td>\n",
              "      <td>100</td>\n",
              "      <td>0</td>\n",
              "      <td>0.01</td>\n",
              "      <td>1000.7</td>\n",
              "      <td>-14.76</td>\n",
              "      <td>4.2</td>\n",
              "      <td>-6</td>\n",
              "      <td>7.32393</td>\n",
              "    </tr>\n",
              "    <tr>\n",
              "      <th>2010-01-02 15:00:00</th>\n",
              "      <td>-20.07</td>\n",
              "      <td>0</td>\n",
              "      <td>8</td>\n",
              "      <td>0</td>\n",
              "      <td>0</td>\n",
              "      <td>1002</td>\n",
              "      <td>-15.76</td>\n",
              "      <td>4.3</td>\n",
              "      <td>-4.5</td>\n",
              "      <td>6.22415</td>\n",
              "    </tr>\n",
              "    <tr>\n",
              "      <th>...</th>\n",
              "      <td>...</td>\n",
              "      <td>...</td>\n",
              "      <td>...</td>\n",
              "      <td>...</td>\n",
              "      <td>...</td>\n",
              "      <td>...</td>\n",
              "      <td>...</td>\n",
              "      <td>...</td>\n",
              "      <td>...</td>\n",
              "      <td>...</td>\n",
              "    </tr>\n",
              "    <tr>\n",
              "      <th>2020-02-01 18:00:00</th>\n",
              "      <td>0.29</td>\n",
              "      <td>0</td>\n",
              "      <td>100</td>\n",
              "      <td>0</td>\n",
              "      <td>0.01</td>\n",
              "      <td>986.1</td>\n",
              "      <td>3.24</td>\n",
              "      <td>6.7</td>\n",
              "      <td>0.6</td>\n",
              "      <td>6.72681</td>\n",
              "    </tr>\n",
              "    <tr>\n",
              "      <th>2020-02-01 21:00:00</th>\n",
              "      <td>-0.62</td>\n",
              "      <td>100</td>\n",
              "      <td>100</td>\n",
              "      <td>0</td>\n",
              "      <td>0.02</td>\n",
              "      <td>984.3</td>\n",
              "      <td>3.04</td>\n",
              "      <td>6.7</td>\n",
              "      <td>0.7</td>\n",
              "      <td>6.73647</td>\n",
              "    </tr>\n",
              "    <tr>\n",
              "      <th>2020-02-02 00:00:00</th>\n",
              "      <td>-0.65</td>\n",
              "      <td>100</td>\n",
              "      <td>100</td>\n",
              "      <td>29</td>\n",
              "      <td>0</td>\n",
              "      <td>984.9</td>\n",
              "      <td>1.94</td>\n",
              "      <td>5.4</td>\n",
              "      <td>0.2</td>\n",
              "      <td>5.4037</td>\n",
              "    </tr>\n",
              "    <tr>\n",
              "      <th>2020-02-02 03:00:00</th>\n",
              "      <td>-0.77</td>\n",
              "      <td>57</td>\n",
              "      <td>39</td>\n",
              "      <td>22</td>\n",
              "      <td>0</td>\n",
              "      <td>984.3</td>\n",
              "      <td>0.24</td>\n",
              "      <td>3.7</td>\n",
              "      <td>2</td>\n",
              "      <td>4.20595</td>\n",
              "    </tr>\n",
              "    <tr>\n",
              "      <th>2020-02-02 06:00:00</th>\n",
              "      <td>-0.62</td>\n",
              "      <td>42</td>\n",
              "      <td>42</td>\n",
              "      <td>11</td>\n",
              "      <td>0</td>\n",
              "      <td>981.7</td>\n",
              "      <td>0.54</td>\n",
              "      <td>3.7</td>\n",
              "      <td>2.9</td>\n",
              "      <td>4.70106</td>\n",
              "    </tr>\n",
              "  </tbody>\n",
              "</table>\n",
              "<p>36450 rows × 10 columns</p>\n",
              "</div>"
            ],
            "text/plain": [
              "                         0     1     2     3  ...      6     7     8        9\n",
              "Unnamed: 0            DWPC  HCLD  LCLD  MCLD  ...   TMPC  UWND  VWND     WSPD\n",
              "2010-01-02 06:00:00 -13.74     0   100     1  ... -11.26   4.3  -5.4   6.9029\n",
              "2010-01-02 09:00:00 -15.19     0   100     0  ... -12.66   4.9  -5.3  7.21803\n",
              "2010-01-02 12:00:00 -17.91     0   100     0  ... -14.76   4.2    -6  7.32393\n",
              "2010-01-02 15:00:00 -20.07     0     8     0  ... -15.76   4.3  -4.5  6.22415\n",
              "...                    ...   ...   ...   ...  ...    ...   ...   ...      ...\n",
              "2020-02-01 18:00:00   0.29     0   100     0  ...   3.24   6.7   0.6  6.72681\n",
              "2020-02-01 21:00:00  -0.62   100   100     0  ...   3.04   6.7   0.7  6.73647\n",
              "2020-02-02 00:00:00  -0.65   100   100    29  ...   1.94   5.4   0.2   5.4037\n",
              "2020-02-02 03:00:00  -0.77    57    39    22  ...   0.24   3.7     2  4.20595\n",
              "2020-02-02 06:00:00  -0.62    42    42    11  ...   0.54   3.7   2.9  4.70106\n",
              "\n",
              "[36450 rows x 10 columns]"
            ]
          },
          "metadata": {
            "tags": []
          },
          "execution_count": 11
        }
      ]
    },
    {
      "cell_type": "code",
      "metadata": {
        "id": "kN7vrKSMzeGq",
        "colab_type": "code",
        "colab": {}
      },
      "source": [
        "sfc_gfs.columns = ['DWPC', 'HCLD', 'LCLD', 'MCLD', 'PRCP', 'PRES', 'TMPC', 'UWND', 'VWND', 'WSPD']\n",
        "sfc_gfs = sfc_gfs.drop('Unnamed: 0')"
      ],
      "execution_count": 0,
      "outputs": []
    },
    {
      "cell_type": "code",
      "metadata": {
        "id": "rkH8ETVR2mcQ",
        "colab_type": "code",
        "outputId": "9a89b701-b26f-45f5-d83d-d1d3e40d0c2a",
        "colab": {
          "base_uri": "https://localhost:8080/",
          "height": 223
        }
      },
      "source": [
        "sfc_gfs.index = pd.to_datetime(sfc_gfs.index)\n",
        "sfc_gfs.index"
      ],
      "execution_count": 13,
      "outputs": [
        {
          "output_type": "execute_result",
          "data": {
            "text/plain": [
              "DatetimeIndex(['2010-01-02 06:00:00', '2010-01-02 09:00:00',\n",
              "               '2010-01-02 12:00:00', '2010-01-02 15:00:00',\n",
              "               '2010-01-02 18:00:00', '2010-01-02 21:00:00',\n",
              "               '2010-01-03 00:00:00', '2010-01-03 03:00:00',\n",
              "               '2010-01-03 06:00:00', '2010-01-03 06:00:00',\n",
              "               ...\n",
              "               '2020-02-01 06:00:00', '2020-02-01 06:00:00',\n",
              "               '2020-02-01 09:00:00', '2020-02-01 12:00:00',\n",
              "               '2020-02-01 15:00:00', '2020-02-01 18:00:00',\n",
              "               '2020-02-01 21:00:00', '2020-02-02 00:00:00',\n",
              "               '2020-02-02 03:00:00', '2020-02-02 06:00:00'],\n",
              "              dtype='datetime64[ns]', length=32805, freq=None)"
            ]
          },
          "metadata": {
            "tags": []
          },
          "execution_count": 13
        }
      ]
    },
    {
      "cell_type": "code",
      "metadata": {
        "id": "cjkukFWC20TT",
        "colab_type": "code",
        "outputId": "a5dbf930-a600-4deb-d4b7-32f1f0e2e181",
        "colab": {
          "base_uri": "https://localhost:8080/",
          "height": 223
        }
      },
      "source": [
        "# find missing times\n",
        "missing_sfc_gfs = pd.date_range(start = '2010-01-02 06:00:00', end = '2020-02-02 06:00:00', freq='3H').difference(sfc_gfs.index)\n",
        "missing_sfc_gfs\n",
        "\n",
        "# the result shows that len(missing_sfc_gfs) < (24/3)*len(missing_daily_gfs)...not sure how to go from here."
      ],
      "execution_count": 14,
      "outputs": [
        {
          "output_type": "execute_result",
          "data": {
            "text/plain": [
              "DatetimeIndex(['2010-06-21 09:00:00', '2010-06-21 12:00:00',\n",
              "               '2010-06-21 15:00:00', '2010-06-21 18:00:00',\n",
              "               '2010-06-21 21:00:00', '2010-06-22 00:00:00',\n",
              "               '2010-06-22 03:00:00', '2013-08-17 09:00:00',\n",
              "               '2013-08-17 12:00:00', '2013-08-17 15:00:00',\n",
              "               ...\n",
              "               '2018-05-13 21:00:00', '2018-05-14 00:00:00',\n",
              "               '2018-05-14 03:00:00', '2019-04-14 09:00:00',\n",
              "               '2019-04-14 12:00:00', '2019-04-14 15:00:00',\n",
              "               '2019-04-14 18:00:00', '2019-04-14 21:00:00',\n",
              "               '2019-04-15 00:00:00', '2019-04-15 03:00:00'],\n",
              "              dtype='datetime64[ns]', length=289, freq=None)"
            ]
          },
          "metadata": {
            "tags": []
          },
          "execution_count": 14
        }
      ]
    },
    {
      "cell_type": "markdown",
      "metadata": {
        "id": "PIDh60eWBYHX",
        "colab_type": "text"
      },
      "source": [
        "Import obs daily data"
      ]
    },
    {
      "cell_type": "code",
      "metadata": {
        "id": "iewpNIUB_Ume",
        "colab_type": "code",
        "colab": {
          "base_uri": "https://localhost:8080/",
          "height": 440
        },
        "outputId": "65ca04d1-9f60-444a-9d9f-c4819ddcfaf8"
      },
      "source": [
        "daily_obs = pd.read_csv(YOUR_DIRECTORY + 'KCMI_daily.csv', header=4, usecols=[0,1,2,3,4], index_col='Date')[:-7]  # ignore the last 7 lines\n",
        "daily_obs"
      ],
      "execution_count": 15,
      "outputs": [
        {
          "output_type": "execute_result",
          "data": {
            "text/html": [
              "<div>\n",
              "<style scoped>\n",
              "    .dataframe tbody tr th:only-of-type {\n",
              "        vertical-align: middle;\n",
              "    }\n",
              "\n",
              "    .dataframe tbody tr th {\n",
              "        vertical-align: top;\n",
              "    }\n",
              "\n",
              "    .dataframe thead th {\n",
              "        text-align: right;\n",
              "    }\n",
              "</style>\n",
              "<table border=\"1\" class=\"dataframe\">\n",
              "  <thead>\n",
              "    <tr style=\"text-align: right;\">\n",
              "      <th></th>\n",
              "      <th>Max Hourly Temp (F)</th>\n",
              "      <th>Min Hourly Temp (F)</th>\n",
              "      <th>Max Wind Speed (mph)</th>\n",
              "      <th>Total Precip (in)</th>\n",
              "    </tr>\n",
              "    <tr>\n",
              "      <th>Date</th>\n",
              "      <th></th>\n",
              "      <th></th>\n",
              "      <th></th>\n",
              "      <th></th>\n",
              "    </tr>\n",
              "  </thead>\n",
              "  <tbody>\n",
              "    <tr>\n",
              "      <th>2010-01-01</th>\n",
              "      <td>12</td>\n",
              "      <td>2</td>\n",
              "      <td>15</td>\n",
              "      <td>M</td>\n",
              "    </tr>\n",
              "    <tr>\n",
              "      <th>2010-01-02</th>\n",
              "      <td>6</td>\n",
              "      <td>-5</td>\n",
              "      <td>15</td>\n",
              "      <td>0.00</td>\n",
              "    </tr>\n",
              "    <tr>\n",
              "      <th>2010-01-03</th>\n",
              "      <td>10</td>\n",
              "      <td>-6</td>\n",
              "      <td>11</td>\n",
              "      <td>0.00</td>\n",
              "    </tr>\n",
              "    <tr>\n",
              "      <th>2010-01-04</th>\n",
              "      <td>11</td>\n",
              "      <td>-2</td>\n",
              "      <td>20</td>\n",
              "      <td>0.00</td>\n",
              "    </tr>\n",
              "    <tr>\n",
              "      <th>2010-01-05</th>\n",
              "      <td>10</td>\n",
              "      <td>-1</td>\n",
              "      <td>16</td>\n",
              "      <td>M</td>\n",
              "    </tr>\n",
              "    <tr>\n",
              "      <th>...</th>\n",
              "      <td>...</td>\n",
              "      <td>...</td>\n",
              "      <td>...</td>\n",
              "      <td>...</td>\n",
              "    </tr>\n",
              "    <tr>\n",
              "      <th>2019-12-27</th>\n",
              "      <td>43</td>\n",
              "      <td>32</td>\n",
              "      <td>15</td>\n",
              "      <td>0.00</td>\n",
              "    </tr>\n",
              "    <tr>\n",
              "      <th>2019-12-28</th>\n",
              "      <td>56</td>\n",
              "      <td>32</td>\n",
              "      <td>23</td>\n",
              "      <td>0.23</td>\n",
              "    </tr>\n",
              "    <tr>\n",
              "      <th>2019-12-29</th>\n",
              "      <td>59</td>\n",
              "      <td>41</td>\n",
              "      <td>23</td>\n",
              "      <td>0.22</td>\n",
              "    </tr>\n",
              "    <tr>\n",
              "      <th>2019-12-30</th>\n",
              "      <td>38</td>\n",
              "      <td>31</td>\n",
              "      <td>26</td>\n",
              "      <td>0.01</td>\n",
              "    </tr>\n",
              "    <tr>\n",
              "      <th>2019-12-31</th>\n",
              "      <td>33</td>\n",
              "      <td>30</td>\n",
              "      <td>29</td>\n",
              "      <td>0.00</td>\n",
              "    </tr>\n",
              "  </tbody>\n",
              "</table>\n",
              "<p>3652 rows × 4 columns</p>\n",
              "</div>"
            ],
            "text/plain": [
              "           Max Hourly Temp (F)  ... Total Precip (in)\n",
              "Date                            ...                  \n",
              "2010-01-01                  12  ...                 M\n",
              "2010-01-02                   6  ...              0.00\n",
              "2010-01-03                  10  ...              0.00\n",
              "2010-01-04                  11  ...              0.00\n",
              "2010-01-05                  10  ...                 M\n",
              "...                        ...  ...               ...\n",
              "2019-12-27                  43  ...              0.00\n",
              "2019-12-28                  56  ...              0.23\n",
              "2019-12-29                  59  ...              0.22\n",
              "2019-12-30                  38  ...              0.01\n",
              "2019-12-31                  33  ...              0.00\n",
              "\n",
              "[3652 rows x 4 columns]"
            ]
          },
          "metadata": {
            "tags": []
          },
          "execution_count": 15
        }
      ]
    },
    {
      "cell_type": "code",
      "metadata": {
        "id": "8fPwxnGj42bB",
        "colab_type": "code",
        "outputId": "280488a1-21e1-4f3c-bf28-539ca0f85229",
        "colab": {
          "base_uri": "https://localhost:8080/",
          "height": 449
        }
      },
      "source": [
        "# KCMI_daily.csv is first edited to comment out the last few rows with '#' for\n",
        "# reindexing and parsing dates (using skipfooter directly did not work). The new\n",
        "# file is saved as KCMI_daily_comment.csv under Cathy's forked directory.\n",
        "# daily_obs = pd.read_csv(YOUR_DIRECTORY + 'KCMI_daily_comment.csv', header=4, \n",
        "                        # usecols=[0,1,2,3,4], comment='#', index_col=0, parse_dates=True, \n",
        "                        # infer_datetime_format=True)\n",
        "# daily_obs.rename(columns={'TMAX (F)','TMIN (F)','WMAX (mph)','PREC (in)'})\n",
        "# daily_obs\n",
        "# daily_obs['Max Daily Temp (C)'] = daily_obs['TMAX'].apply(lambda x: (x*(9/5))).apply(lambda x: x+32) # Change TMAX to Celsius\n",
        "# daily_gfs['TMIN'] = daily_gfs['TMIN'].apply(lambda x: (x*(9/5))).apply(lambda x: x+32) # Change TMIN to Celsius"
      ],
      "execution_count": 0,
      "outputs": [
        {
          "output_type": "execute_result",
          "data": {
            "text/html": [
              "<div>\n",
              "<style scoped>\n",
              "    .dataframe tbody tr th:only-of-type {\n",
              "        vertical-align: middle;\n",
              "    }\n",
              "\n",
              "    .dataframe tbody tr th {\n",
              "        vertical-align: top;\n",
              "    }\n",
              "\n",
              "    .dataframe thead th {\n",
              "        text-align: right;\n",
              "    }\n",
              "</style>\n",
              "<table border=\"1\" class=\"dataframe\">\n",
              "  <thead>\n",
              "    <tr style=\"text-align: right;\">\n",
              "      <th></th>\n",
              "      <th>Max Hourly Temp (F)</th>\n",
              "      <th>Min Hourly Temp (F)</th>\n",
              "      <th>Max Wind Speed (mph)</th>\n",
              "      <th>Total Precip (in)</th>\n",
              "    </tr>\n",
              "    <tr>\n",
              "      <th>Date</th>\n",
              "      <th></th>\n",
              "      <th></th>\n",
              "      <th></th>\n",
              "      <th></th>\n",
              "    </tr>\n",
              "  </thead>\n",
              "  <tbody>\n",
              "    <tr>\n",
              "      <th>2010-01-01</th>\n",
              "      <td>12</td>\n",
              "      <td>2</td>\n",
              "      <td>15</td>\n",
              "      <td>M</td>\n",
              "    </tr>\n",
              "    <tr>\n",
              "      <th>2010-01-02</th>\n",
              "      <td>6</td>\n",
              "      <td>-5</td>\n",
              "      <td>15</td>\n",
              "      <td>0.00</td>\n",
              "    </tr>\n",
              "    <tr>\n",
              "      <th>2010-01-03</th>\n",
              "      <td>10</td>\n",
              "      <td>-6</td>\n",
              "      <td>11</td>\n",
              "      <td>0.00</td>\n",
              "    </tr>\n",
              "    <tr>\n",
              "      <th>2010-01-04</th>\n",
              "      <td>11</td>\n",
              "      <td>-2</td>\n",
              "      <td>20</td>\n",
              "      <td>0.00</td>\n",
              "    </tr>\n",
              "    <tr>\n",
              "      <th>2010-01-05</th>\n",
              "      <td>10</td>\n",
              "      <td>-1</td>\n",
              "      <td>16</td>\n",
              "      <td>M</td>\n",
              "    </tr>\n",
              "    <tr>\n",
              "      <th>...</th>\n",
              "      <td>...</td>\n",
              "      <td>...</td>\n",
              "      <td>...</td>\n",
              "      <td>...</td>\n",
              "    </tr>\n",
              "    <tr>\n",
              "      <th>2019-12-27</th>\n",
              "      <td>43</td>\n",
              "      <td>32</td>\n",
              "      <td>15</td>\n",
              "      <td>0.00</td>\n",
              "    </tr>\n",
              "    <tr>\n",
              "      <th>2019-12-28</th>\n",
              "      <td>56</td>\n",
              "      <td>32</td>\n",
              "      <td>23</td>\n",
              "      <td>0.23</td>\n",
              "    </tr>\n",
              "    <tr>\n",
              "      <th>2019-12-29</th>\n",
              "      <td>59</td>\n",
              "      <td>41</td>\n",
              "      <td>23</td>\n",
              "      <td>0.22</td>\n",
              "    </tr>\n",
              "    <tr>\n",
              "      <th>2019-12-30</th>\n",
              "      <td>38</td>\n",
              "      <td>31</td>\n",
              "      <td>26</td>\n",
              "      <td>0.01</td>\n",
              "    </tr>\n",
              "    <tr>\n",
              "      <th>2019-12-31</th>\n",
              "      <td>33</td>\n",
              "      <td>30</td>\n",
              "      <td>29</td>\n",
              "      <td>0.00</td>\n",
              "    </tr>\n",
              "  </tbody>\n",
              "</table>\n",
              "<p>3652 rows × 4 columns</p>\n",
              "</div>"
            ],
            "text/plain": [
              "           Max Hourly Temp (F)  ... Total Precip (in)\n",
              "Date                            ...                  \n",
              "2010-01-01                  12  ...                 M\n",
              "2010-01-02                   6  ...              0.00\n",
              "2010-01-03                  10  ...              0.00\n",
              "2010-01-04                  11  ...              0.00\n",
              "2010-01-05                  10  ...                 M\n",
              "...                        ...  ...               ...\n",
              "2019-12-27                  43  ...              0.00\n",
              "2019-12-28                  56  ...              0.23\n",
              "2019-12-29                  59  ...              0.22\n",
              "2019-12-30                  38  ...              0.01\n",
              "2019-12-31                  33  ...              0.00\n",
              "\n",
              "[3652 rows x 4 columns]"
            ]
          },
          "metadata": {
            "tags": []
          },
          "execution_count": 47
        }
      ]
    },
    {
      "cell_type": "code",
      "metadata": {
        "id": "1B6Dgahla46m",
        "colab_type": "code",
        "colab": {
          "base_uri": "https://localhost:8080/",
          "height": 120
        },
        "outputId": "2e210277-52a1-494f-acd5-0a31ed80b67e"
      },
      "source": [
        "daily_obs.index"
      ],
      "execution_count": 16,
      "outputs": [
        {
          "output_type": "execute_result",
          "data": {
            "text/plain": [
              "Index(['2010-01-01', '2010-01-02', '2010-01-03', '2010-01-04', '2010-01-05',\n",
              "       '2010-01-06', '2010-01-07', '2010-01-08', '2010-01-09', '2010-01-10',\n",
              "       ...\n",
              "       '2019-12-22', '2019-12-23', '2019-12-24', '2019-12-25', '2019-12-26',\n",
              "       '2019-12-27', '2019-12-28', '2019-12-29', '2019-12-30', '2019-12-31'],\n",
              "      dtype='object', name='Date', length=3652)"
            ]
          },
          "metadata": {
            "tags": []
          },
          "execution_count": 16
        }
      ]
    },
    {
      "cell_type": "code",
      "metadata": {
        "id": "X-YwzXGL--AJ",
        "colab_type": "code",
        "outputId": "d73c8f59-0733-4ebf-f9e8-9b4ab10041bd",
        "colab": {
          "base_uri": "https://localhost:8080/",
          "height": 34
        }
      },
      "source": [
        "# check for missing dates - there's none\n",
        "missing_dates_obs = pd.date_range(start = '2010-01-01', end = '2019-12-31', freq='D').difference(daily_obs.index)\n",
        "missing_dates_obs "
      ],
      "execution_count": 19,
      "outputs": [
        {
          "output_type": "execute_result",
          "data": {
            "text/plain": [
              "DatetimeIndex([], dtype='datetime64[ns]', freq='D')"
            ]
          },
          "metadata": {
            "tags": []
          },
          "execution_count": 19
        }
      ]
    },
    {
      "cell_type": "markdown",
      "metadata": {
        "id": "GQo90ECpc3FO",
        "colab_type": "text"
      },
      "source": [
        "Import obs hourly data"
      ]
    },
    {
      "cell_type": "code",
      "metadata": {
        "id": "6OSS7dSxZvj0",
        "colab_type": "code",
        "outputId": "5a955e83-8714-4c3e-d13c-8a6de397e601",
        "colab": {
          "base_uri": "https://localhost:8080/",
          "height": 440
        }
      },
      "source": [
        "hourly_obs = pd.read_csv(YOUR_DIRECTORY + 'KCMI_hourly.csv', #header=1, usecols=[0,1,2,3,4], comment='#', \n",
        "                         index_col=0, parse_dates=True, infer_datetime_format=True)\n",
        "hourly_obs"
      ],
      "execution_count": 20,
      "outputs": [
        {
          "output_type": "execute_result",
          "data": {
            "text/html": [
              "<div>\n",
              "<style scoped>\n",
              "    .dataframe tbody tr th:only-of-type {\n",
              "        vertical-align: middle;\n",
              "    }\n",
              "\n",
              "    .dataframe tbody tr th {\n",
              "        vertical-align: top;\n",
              "    }\n",
              "\n",
              "    .dataframe thead th {\n",
              "        text-align: right;\n",
              "    }\n",
              "</style>\n",
              "<table border=\"1\" class=\"dataframe\">\n",
              "  <thead>\n",
              "    <tr style=\"text-align: right;\">\n",
              "      <th></th>\n",
              "      <th>year</th>\n",
              "      <th>month</th>\n",
              "      <th>day</th>\n",
              "      <th>hour</th>\n",
              "      <th>tmpc</th>\n",
              "      <th>dwpc</th>\n",
              "      <th>mslp</th>\n",
              "      <th>wdir</th>\n",
              "      <th>wspd</th>\n",
              "      <th>skct</th>\n",
              "      <th>pr1h</th>\n",
              "      <th>pr6h</th>\n",
              "      <th>doy</th>\n",
              "      <th>woy</th>\n",
              "    </tr>\n",
              "    <tr>\n",
              "      <th>Timestamp</th>\n",
              "      <th></th>\n",
              "      <th></th>\n",
              "      <th></th>\n",
              "      <th></th>\n",
              "      <th></th>\n",
              "      <th></th>\n",
              "      <th></th>\n",
              "      <th></th>\n",
              "      <th></th>\n",
              "      <th></th>\n",
              "      <th></th>\n",
              "      <th></th>\n",
              "      <th></th>\n",
              "      <th></th>\n",
              "    </tr>\n",
              "  </thead>\n",
              "  <tbody>\n",
              "    <tr>\n",
              "      <th>2005-12-31 19:00:00</th>\n",
              "      <td>2006</td>\n",
              "      <td>1</td>\n",
              "      <td>1</td>\n",
              "      <td>1</td>\n",
              "      <td>0.6</td>\n",
              "      <td>-1.7</td>\n",
              "      <td>1012.6</td>\n",
              "      <td>220.0</td>\n",
              "      <td>2.1</td>\n",
              "      <td>2.0</td>\n",
              "      <td>0.0</td>\n",
              "      <td>NaN</td>\n",
              "      <td>365</td>\n",
              "      <td>52</td>\n",
              "    </tr>\n",
              "    <tr>\n",
              "      <th>2005-12-31 20:00:00</th>\n",
              "      <td>2006</td>\n",
              "      <td>1</td>\n",
              "      <td>1</td>\n",
              "      <td>2</td>\n",
              "      <td>0.0</td>\n",
              "      <td>-1.7</td>\n",
              "      <td>1012.9</td>\n",
              "      <td>160.0</td>\n",
              "      <td>2.1</td>\n",
              "      <td>0.0</td>\n",
              "      <td>0.0</td>\n",
              "      <td>NaN</td>\n",
              "      <td>365</td>\n",
              "      <td>52</td>\n",
              "    </tr>\n",
              "    <tr>\n",
              "      <th>2005-12-31 21:00:00</th>\n",
              "      <td>2006</td>\n",
              "      <td>1</td>\n",
              "      <td>1</td>\n",
              "      <td>3</td>\n",
              "      <td>-0.6</td>\n",
              "      <td>-2.2</td>\n",
              "      <td>1013.4</td>\n",
              "      <td>170.0</td>\n",
              "      <td>1.5</td>\n",
              "      <td>0.0</td>\n",
              "      <td>0.0</td>\n",
              "      <td>NaN</td>\n",
              "      <td>365</td>\n",
              "      <td>52</td>\n",
              "    </tr>\n",
              "    <tr>\n",
              "      <th>2005-12-31 22:00:00</th>\n",
              "      <td>2006</td>\n",
              "      <td>1</td>\n",
              "      <td>1</td>\n",
              "      <td>4</td>\n",
              "      <td>-1.1</td>\n",
              "      <td>-2.2</td>\n",
              "      <td>1012.9</td>\n",
              "      <td>160.0</td>\n",
              "      <td>3.1</td>\n",
              "      <td>0.0</td>\n",
              "      <td>0.0</td>\n",
              "      <td>NaN</td>\n",
              "      <td>365</td>\n",
              "      <td>52</td>\n",
              "    </tr>\n",
              "    <tr>\n",
              "      <th>2005-12-31 23:00:00</th>\n",
              "      <td>2006</td>\n",
              "      <td>1</td>\n",
              "      <td>1</td>\n",
              "      <td>5</td>\n",
              "      <td>-1.1</td>\n",
              "      <td>-2.2</td>\n",
              "      <td>1013.1</td>\n",
              "      <td>160.0</td>\n",
              "      <td>3.1</td>\n",
              "      <td>0.0</td>\n",
              "      <td>0.0</td>\n",
              "      <td>NaN</td>\n",
              "      <td>365</td>\n",
              "      <td>52</td>\n",
              "    </tr>\n",
              "    <tr>\n",
              "      <th>...</th>\n",
              "      <td>...</td>\n",
              "      <td>...</td>\n",
              "      <td>...</td>\n",
              "      <td>...</td>\n",
              "      <td>...</td>\n",
              "      <td>...</td>\n",
              "      <td>...</td>\n",
              "      <td>...</td>\n",
              "      <td>...</td>\n",
              "      <td>...</td>\n",
              "      <td>...</td>\n",
              "      <td>...</td>\n",
              "      <td>...</td>\n",
              "      <td>...</td>\n",
              "    </tr>\n",
              "    <tr>\n",
              "      <th>2020-03-08 20:00:00</th>\n",
              "      <td>2020</td>\n",
              "      <td>3</td>\n",
              "      <td>9</td>\n",
              "      <td>2</td>\n",
              "      <td>12.2</td>\n",
              "      <td>-1.1</td>\n",
              "      <td>1022.0</td>\n",
              "      <td>180.0</td>\n",
              "      <td>8.2</td>\n",
              "      <td>NaN</td>\n",
              "      <td>NaN</td>\n",
              "      <td>NaN</td>\n",
              "      <td>68</td>\n",
              "      <td>10</td>\n",
              "    </tr>\n",
              "    <tr>\n",
              "      <th>2020-03-08 21:00:00</th>\n",
              "      <td>2020</td>\n",
              "      <td>3</td>\n",
              "      <td>9</td>\n",
              "      <td>3</td>\n",
              "      <td>12.2</td>\n",
              "      <td>-1.1</td>\n",
              "      <td>1021.9</td>\n",
              "      <td>180.0</td>\n",
              "      <td>9.8</td>\n",
              "      <td>NaN</td>\n",
              "      <td>NaN</td>\n",
              "      <td>NaN</td>\n",
              "      <td>68</td>\n",
              "      <td>10</td>\n",
              "    </tr>\n",
              "    <tr>\n",
              "      <th>2020-03-08 22:00:00</th>\n",
              "      <td>2020</td>\n",
              "      <td>3</td>\n",
              "      <td>9</td>\n",
              "      <td>4</td>\n",
              "      <td>10.6</td>\n",
              "      <td>-0.6</td>\n",
              "      <td>1021.9</td>\n",
              "      <td>180.0</td>\n",
              "      <td>8.8</td>\n",
              "      <td>NaN</td>\n",
              "      <td>NaN</td>\n",
              "      <td>NaN</td>\n",
              "      <td>68</td>\n",
              "      <td>10</td>\n",
              "    </tr>\n",
              "    <tr>\n",
              "      <th>2020-03-08 23:00:00</th>\n",
              "      <td>2020</td>\n",
              "      <td>3</td>\n",
              "      <td>9</td>\n",
              "      <td>5</td>\n",
              "      <td>9.4</td>\n",
              "      <td>0.0</td>\n",
              "      <td>1022.0</td>\n",
              "      <td>190.0</td>\n",
              "      <td>6.2</td>\n",
              "      <td>NaN</td>\n",
              "      <td>NaN</td>\n",
              "      <td>NaN</td>\n",
              "      <td>68</td>\n",
              "      <td>10</td>\n",
              "    </tr>\n",
              "    <tr>\n",
              "      <th>2020-03-09 00:00:00</th>\n",
              "      <td>2020</td>\n",
              "      <td>3</td>\n",
              "      <td>9</td>\n",
              "      <td>6</td>\n",
              "      <td>7.8</td>\n",
              "      <td>0.0</td>\n",
              "      <td>1021.9</td>\n",
              "      <td>190.0</td>\n",
              "      <td>6.2</td>\n",
              "      <td>NaN</td>\n",
              "      <td>NaN</td>\n",
              "      <td>NaN</td>\n",
              "      <td>69</td>\n",
              "      <td>11</td>\n",
              "    </tr>\n",
              "  </tbody>\n",
              "</table>\n",
              "<p>124279 rows × 14 columns</p>\n",
              "</div>"
            ],
            "text/plain": [
              "                     year  month  day  hour  tmpc  ...  skct  pr1h  pr6h  doy  woy\n",
              "Timestamp                                          ...                            \n",
              "2005-12-31 19:00:00  2006      1    1     1   0.6  ...   2.0   0.0   NaN  365   52\n",
              "2005-12-31 20:00:00  2006      1    1     2   0.0  ...   0.0   0.0   NaN  365   52\n",
              "2005-12-31 21:00:00  2006      1    1     3  -0.6  ...   0.0   0.0   NaN  365   52\n",
              "2005-12-31 22:00:00  2006      1    1     4  -1.1  ...   0.0   0.0   NaN  365   52\n",
              "2005-12-31 23:00:00  2006      1    1     5  -1.1  ...   0.0   0.0   NaN  365   52\n",
              "...                   ...    ...  ...   ...   ...  ...   ...   ...   ...  ...  ...\n",
              "2020-03-08 20:00:00  2020      3    9     2  12.2  ...   NaN   NaN   NaN   68   10\n",
              "2020-03-08 21:00:00  2020      3    9     3  12.2  ...   NaN   NaN   NaN   68   10\n",
              "2020-03-08 22:00:00  2020      3    9     4  10.6  ...   NaN   NaN   NaN   68   10\n",
              "2020-03-08 23:00:00  2020      3    9     5   9.4  ...   NaN   NaN   NaN   68   10\n",
              "2020-03-09 00:00:00  2020      3    9     6   7.8  ...   NaN   NaN   NaN   69   11\n",
              "\n",
              "[124279 rows x 14 columns]"
            ]
          },
          "metadata": {
            "tags": []
          },
          "execution_count": 20
        }
      ]
    },
    {
      "cell_type": "markdown",
      "metadata": {
        "id": "1RWsthDEkkdp",
        "colab_type": "text"
      },
      "source": [
        "Resample hourly precip data into daily freq and add to daily_obs "
      ]
    },
    {
      "cell_type": "code",
      "metadata": {
        "id": "RYm_g2ppeZ2X",
        "colab_type": "code",
        "outputId": "dd5d86a0-5b77-4d4d-dc82-716b790d52cb",
        "colab": {
          "base_uri": "https://localhost:8080/",
          "height": 240
        }
      },
      "source": [
        "hourly_obs_res = hourly_obs.resample('24H',base=12).sum()\n",
        "precip_daily = hourly_obs_res['pr1h']['2010-01-01 12:00:00':'2019-12-31 12:00:00'].resample('D').sum()\n",
        "precip_daily"
      ],
      "execution_count": 21,
      "outputs": [
        {
          "output_type": "execute_result",
          "data": {
            "text/plain": [
              "Timestamp\n",
              "2010-01-01    0.0\n",
              "2010-01-02    0.0\n",
              "2010-01-03    0.0\n",
              "2010-01-04    0.0\n",
              "2010-01-05   -0.1\n",
              "             ... \n",
              "2019-12-27    0.0\n",
              "2019-12-28    6.1\n",
              "2019-12-29    1.0\n",
              "2019-12-30    0.0\n",
              "2019-12-31    0.0\n",
              "Freq: D, Name: pr1h, Length: 3652, dtype: float64"
            ]
          },
          "metadata": {
            "tags": []
          },
          "execution_count": 21
        }
      ]
    },
    {
      "cell_type": "code",
      "metadata": {
        "id": "PgPfXfXefrih",
        "colab_type": "code",
        "outputId": "f02cc8fe-7ab2-427c-9a3e-6379e182b634",
        "colab": {
          "base_uri": "https://localhost:8080/",
          "height": 440
        }
      },
      "source": [
        "daily_obs['Total Precip from Hourly (in)'] = precip_daily\n",
        "daily_obs"
      ],
      "execution_count": 22,
      "outputs": [
        {
          "output_type": "execute_result",
          "data": {
            "text/html": [
              "<div>\n",
              "<style scoped>\n",
              "    .dataframe tbody tr th:only-of-type {\n",
              "        vertical-align: middle;\n",
              "    }\n",
              "\n",
              "    .dataframe tbody tr th {\n",
              "        vertical-align: top;\n",
              "    }\n",
              "\n",
              "    .dataframe thead th {\n",
              "        text-align: right;\n",
              "    }\n",
              "</style>\n",
              "<table border=\"1\" class=\"dataframe\">\n",
              "  <thead>\n",
              "    <tr style=\"text-align: right;\">\n",
              "      <th></th>\n",
              "      <th>Max Hourly Temp (F)</th>\n",
              "      <th>Min Hourly Temp (F)</th>\n",
              "      <th>Max Wind Speed (mph)</th>\n",
              "      <th>Total Precip (in)</th>\n",
              "      <th>Total Precip from Hourly (in)</th>\n",
              "    </tr>\n",
              "    <tr>\n",
              "      <th>Date</th>\n",
              "      <th></th>\n",
              "      <th></th>\n",
              "      <th></th>\n",
              "      <th></th>\n",
              "      <th></th>\n",
              "    </tr>\n",
              "  </thead>\n",
              "  <tbody>\n",
              "    <tr>\n",
              "      <th>2010-01-01</th>\n",
              "      <td>12</td>\n",
              "      <td>2</td>\n",
              "      <td>15</td>\n",
              "      <td>M</td>\n",
              "      <td>0.0</td>\n",
              "    </tr>\n",
              "    <tr>\n",
              "      <th>2010-01-02</th>\n",
              "      <td>6</td>\n",
              "      <td>-5</td>\n",
              "      <td>15</td>\n",
              "      <td>0.00</td>\n",
              "      <td>0.0</td>\n",
              "    </tr>\n",
              "    <tr>\n",
              "      <th>2010-01-03</th>\n",
              "      <td>10</td>\n",
              "      <td>-6</td>\n",
              "      <td>11</td>\n",
              "      <td>0.00</td>\n",
              "      <td>0.0</td>\n",
              "    </tr>\n",
              "    <tr>\n",
              "      <th>2010-01-04</th>\n",
              "      <td>11</td>\n",
              "      <td>-2</td>\n",
              "      <td>20</td>\n",
              "      <td>0.00</td>\n",
              "      <td>0.0</td>\n",
              "    </tr>\n",
              "    <tr>\n",
              "      <th>2010-01-05</th>\n",
              "      <td>10</td>\n",
              "      <td>-1</td>\n",
              "      <td>16</td>\n",
              "      <td>M</td>\n",
              "      <td>-0.1</td>\n",
              "    </tr>\n",
              "    <tr>\n",
              "      <th>...</th>\n",
              "      <td>...</td>\n",
              "      <td>...</td>\n",
              "      <td>...</td>\n",
              "      <td>...</td>\n",
              "      <td>...</td>\n",
              "    </tr>\n",
              "    <tr>\n",
              "      <th>2019-12-27</th>\n",
              "      <td>43</td>\n",
              "      <td>32</td>\n",
              "      <td>15</td>\n",
              "      <td>0.00</td>\n",
              "      <td>0.0</td>\n",
              "    </tr>\n",
              "    <tr>\n",
              "      <th>2019-12-28</th>\n",
              "      <td>56</td>\n",
              "      <td>32</td>\n",
              "      <td>23</td>\n",
              "      <td>0.23</td>\n",
              "      <td>6.1</td>\n",
              "    </tr>\n",
              "    <tr>\n",
              "      <th>2019-12-29</th>\n",
              "      <td>59</td>\n",
              "      <td>41</td>\n",
              "      <td>23</td>\n",
              "      <td>0.22</td>\n",
              "      <td>1.0</td>\n",
              "    </tr>\n",
              "    <tr>\n",
              "      <th>2019-12-30</th>\n",
              "      <td>38</td>\n",
              "      <td>31</td>\n",
              "      <td>26</td>\n",
              "      <td>0.01</td>\n",
              "      <td>0.0</td>\n",
              "    </tr>\n",
              "    <tr>\n",
              "      <th>2019-12-31</th>\n",
              "      <td>33</td>\n",
              "      <td>30</td>\n",
              "      <td>29</td>\n",
              "      <td>0.00</td>\n",
              "      <td>0.0</td>\n",
              "    </tr>\n",
              "  </tbody>\n",
              "</table>\n",
              "<p>3652 rows × 5 columns</p>\n",
              "</div>"
            ],
            "text/plain": [
              "           Max Hourly Temp (F)  ... Total Precip from Hourly (in)\n",
              "Date                            ...                              \n",
              "2010-01-01                  12  ...                           0.0\n",
              "2010-01-02                   6  ...                           0.0\n",
              "2010-01-03                  10  ...                           0.0\n",
              "2010-01-04                  11  ...                           0.0\n",
              "2010-01-05                  10  ...                          -0.1\n",
              "...                        ...  ...                           ...\n",
              "2019-12-27                  43  ...                           0.0\n",
              "2019-12-28                  56  ...                           6.1\n",
              "2019-12-29                  59  ...                           1.0\n",
              "2019-12-30                  38  ...                           0.0\n",
              "2019-12-31                  33  ...                           0.0\n",
              "\n",
              "[3652 rows x 5 columns]"
            ]
          },
          "metadata": {
            "tags": []
          },
          "execution_count": 22
        }
      ]
    },
    {
      "cell_type": "markdown",
      "metadata": {
        "id": "nQCfMMOPGVRb",
        "colab_type": "text"
      },
      "source": [
        "Plot the TMAX from GFS and observation"
      ]
    },
    {
      "cell_type": "code",
      "metadata": {
        "id": "dR5NU9FyC0W7",
        "colab_type": "code",
        "colab": {
          "base_uri": "https://localhost:8080/",
          "height": 223
        },
        "outputId": "5cd6a530-c30b-4ad5-93cc-ce7d06c7f193"
      },
      "source": [
        "GFS_TMAX = daily_gfs['TMAX'].loc['2012-01-01 12:00:00':'2012-12-30 12:00:00']  # select 2010-01-01 to 2018-12-30\n",
        "GFS_TMAX.index = GFS_TMAX.index.map(lambda x: x.strftime('%Y-%m-%d'))  # to be consistent with observation index\n",
        "GFS_TMAX"
      ],
      "execution_count": 137,
      "outputs": [
        {
          "output_type": "execute_result",
          "data": {
            "text/plain": [
              "2012-01-01    26.672\n",
              "2012-01-02    26.852\n",
              "2012-01-03    37.832\n",
              "2012-01-04    41.792\n",
              "2012-01-05    47.912\n",
              "               ...  \n",
              "2012-12-26    31.532\n",
              "2012-12-27    32.792\n",
              "2012-12-28    26.672\n",
              "2012-12-29    24.512\n",
              "2012-12-30    31.352\n",
              "Name: TMAX, Length: 365, dtype: float64"
            ]
          },
          "metadata": {
            "tags": []
          },
          "execution_count": 137
        }
      ]
    },
    {
      "cell_type": "code",
      "metadata": {
        "id": "7ZVo-QGXAqyS",
        "colab_type": "code",
        "colab": {
          "base_uri": "https://localhost:8080/",
          "height": 285
        },
        "outputId": "8ddb6b68-c97d-4790-ee59-1540a33eefd1"
      },
      "source": [
        "GFS_TMAX.plot()"
      ],
      "execution_count": 138,
      "outputs": [
        {
          "output_type": "execute_result",
          "data": {
            "text/plain": [
              "<matplotlib.axes._subplots.AxesSubplot at 0x7fd593333b00>"
            ]
          },
          "metadata": {
            "tags": []
          },
          "execution_count": 138
        },
        {
          "output_type": "display_data",
          "data": {
            "image/png": "[encoded data removed]",
            "text/plain": [
              "<Figure size 432x288 with 1 Axes>"
            ]
          },
          "metadata": {
            "tags": []
          }
        }
      ]
    },
    {
      "cell_type": "code",
      "metadata": {
        "id": "H0GJNt_SA1Jh",
        "colab_type": "code",
        "colab": {
          "base_uri": "https://localhost:8080/",
          "height": 34
        },
        "outputId": "bb8fa820-f8b3-4999-ee65-a91b1a87ef50"
      },
      "source": [
        "sum(daily_obs['Max Hourly Temp (F)'] == 'M')"
      ],
      "execution_count": 139,
      "outputs": [
        {
          "output_type": "execute_result",
          "data": {
            "text/plain": [
              "25"
            ]
          },
          "metadata": {
            "tags": []
          },
          "execution_count": 139
        }
      ]
    },
    {
      "cell_type": "code",
      "metadata": {
        "id": "J9vUzEnRCUyI",
        "colab_type": "code",
        "colab": {
          "base_uri": "https://localhost:8080/",
          "height": 240
        },
        "outputId": "bded9487-d4d9-41de-95ab-8eb92c8371ee"
      },
      "source": [
        "# select 2010-01-02 to 2018-12-31 (one day after GFS model)\n",
        "OBS_TMAX = daily_obs['Max Hourly Temp (F)'].mask(daily_obs['Max Hourly Temp (F)']=='M').dropna().astype('float').loc['2012-01-02':'2012-12-31']\n",
        "OBS_TMAX"
      ],
      "execution_count": 140,
      "outputs": [
        {
          "output_type": "execute_result",
          "data": {
            "text/plain": [
              "Date\n",
              "2012-01-02    29.0\n",
              "2012-01-03    29.0\n",
              "2012-01-04    47.0\n",
              "2012-01-05    53.0\n",
              "2012-01-06    59.0\n",
              "              ... \n",
              "2012-12-27    31.0\n",
              "2012-12-28    32.0\n",
              "2012-12-29    31.0\n",
              "2012-12-30    36.0\n",
              "2012-12-31    35.0\n",
              "Name: Max Hourly Temp (F), Length: 365, dtype: float64"
            ]
          },
          "metadata": {
            "tags": []
          },
          "execution_count": 140
        }
      ]
    },
    {
      "cell_type": "code",
      "metadata": {
        "id": "M2c7_Ul_CmzQ",
        "colab_type": "code",
        "colab": {
          "base_uri": "https://localhost:8080/",
          "height": 302
        },
        "outputId": "b9de0434-5081-4555-aca5-8d8a2c053ded"
      },
      "source": [
        "OBS_TMAX.plot()"
      ],
      "execution_count": 141,
      "outputs": [
        {
          "output_type": "execute_result",
          "data": {
            "text/plain": [
              "<matplotlib.axes._subplots.AxesSubplot at 0x7fd593321320>"
            ]
          },
          "metadata": {
            "tags": []
          },
          "execution_count": 141
        },
        {
          "output_type": "display_data",
          "data": {
            "image/png": "[encoded data removed]",
            "text/plain": [
              "<Figure size 432x288 with 1 Axes>"
            ]
          },
          "metadata": {
            "tags": []
          }
        }
      ]
    },
    {
      "cell_type": "markdown",
      "metadata": {
        "id": "oK_V4gK_GewP",
        "colab_type": "text"
      },
      "source": [
        "Find the overlap dates between GFS and observation"
      ]
    },
    {
      "cell_type": "code",
      "metadata": {
        "id": "hvRbF_AcFkWo",
        "colab_type": "code",
        "colab": {
          "base_uri": "https://localhost:8080/",
          "height": 34
        },
        "outputId": "cd377a0c-83e5-4a8f-cc23-29d7bb91e18d"
      },
      "source": [
        "dates_mismatch = OBS_TMAX.index.difference(GFS_TMAX.index)\n",
        "dates_mismatch\n",
        "# len(dates_not_match)  # 36 days mismatch?"
      ],
      "execution_count": 142,
      "outputs": [
        {
          "output_type": "execute_result",
          "data": {
            "text/plain": [
              "Index(['2012-12-31'], dtype='object')"
            ]
          },
          "metadata": {
            "tags": []
          },
          "execution_count": 142
        }
      ]
    },
    {
      "cell_type": "markdown",
      "metadata": {
        "id": "NzuvQ41RAeEg",
        "colab_type": "text"
      },
      "source": [
        "# Linear regression model\n"
      ]
    },
    {
      "cell_type": "code",
      "metadata": {
        "id": "1MfuO2PpiXKj",
        "colab_type": "code",
        "colab": {
          "base_uri": "https://localhost:8080/",
          "height": 285
        },
        "outputId": "74ead6b1-961f-4539-fb2c-b23c5d5b90c0"
      },
      "source": [
        "# Line up the TMAX data (the GFS model is one day ahead of the observation)\n",
        "x = OBS_TMAX  # Observation\n",
        "y = GFS_TMAX  # GFS model\n",
        "plt.scatter(x, y)"
      ],
      "execution_count": 144,
      "outputs": [
        {
          "output_type": "execute_result",
          "data": {
            "text/plain": [
              "<matplotlib.collections.PathCollection at 0x7fd590a09c18>"
            ]
          },
          "metadata": {
            "tags": []
          },
          "execution_count": 144
        },
        {
          "output_type": "display_data",
          "data": {
            "image/png": "[encoded data removed]",
            "text/plain": [
              "<Figure size 432x288 with 1 Axes>"
            ]
          },
          "metadata": {
            "tags": []
          }
        }
      ]
    },
    {
      "cell_type": "code",
      "metadata": {
        "id": "VVKppbpAMlkz",
        "colab_type": "code",
        "colab": {
          "base_uri": "https://localhost:8080/",
          "height": 268
        },
        "outputId": "b6bcebee-f383-447c-f7ba-32d3c48f7c18"
      },
      "source": [
        "from sklearn.linear_model import LinearRegression\n",
        "model = LinearRegression(fit_intercept=True)\n",
        "\n",
        "model.fit(x[:, np.newaxis], y)\n",
        "\n",
        "xfit = np.linspace(10, 110, 100)\n",
        "yfit = model.predict(xfit[:, np.newaxis])\n",
        "\n",
        "plt.scatter(x, y)\n",
        "plt.plot(xfit, yfit);"
      ],
      "execution_count": 152,
      "outputs": [
        {
          "output_type": "display_data",
          "data": {
            "image/png": "[encoded data removed]",
            "text/plain": [
              "<Figure size 432x288 with 1 Axes>"
            ]
          },
          "metadata": {
            "tags": []
          }
        }
      ]
    },
    {
      "cell_type": "code",
      "metadata": {
        "id": "l19UKY10Nblc",
        "colab_type": "code",
        "colab": {
          "base_uri": "https://localhost:8080/",
          "height": 51
        },
        "outputId": "2ae523bb-7f58-4cfa-e9ed-7f5c598baf2e"
      },
      "source": [
        "print(\"Model slope:    \", model.coef_[0])\n",
        "print(\"Model intercept:\", model.intercept_)"
      ],
      "execution_count": 153,
      "outputs": [
        {
          "output_type": "stream",
          "text": [
            "Model slope:     0.8627388069737597\n",
            "Model intercept: 4.546492920567445\n"
          ],
          "name": "stdout"
        }
      ]
    },
    {
      "cell_type": "code",
      "metadata": {
        "id": "lw6ll__kN7Qx",
        "colab_type": "code",
        "colab": {
          "base_uri": "https://localhost:8080/",
          "height": 268
        },
        "outputId": "82fcab3b-0cce-46bf-8887-5b22afd21611"
      },
      "source": [
        "xfit = np.linspace(10, 110, 100)\n",
        "yfit = model.coef_[0]*xfit + model.intercept_  # model.predict(xfit[:, np.newaxis])\n",
        "\n",
        "plt.scatter(x, y)\n",
        "plt.plot(xfit, yfit);"
      ],
      "execution_count": 154,
      "outputs": [
        {
          "output_type": "display_data",
          "data": {
            "image/png": "[encoded data removed]",
            "text/plain": [
              "<Figure size 432x288 with 1 Axes>"
            ]
          },
          "metadata": {
            "tags": []
          }
        }
      ]
    },
    {
      "cell_type": "code",
      "metadata": {
        "id": "Bfj6QM9-NNat",
        "colab_type": "code",
        "colab": {}
      },
      "source": [
        ""
      ],
      "execution_count": 0,
      "outputs": []
    }
  ]
}
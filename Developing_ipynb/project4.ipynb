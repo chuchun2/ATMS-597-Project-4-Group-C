{
  "nbformat": 4,
  "nbformat_minor": 0,
  "metadata": {
    "colab": {
      "name": "project4.ipynb",
      "provenance": [],
      "collapsed_sections": [],
      "authorship_tag": "ABX9TyPgnhGsvgXRhGAOw1vteQHg",
      "include_colab_link": true
    },
    "kernelspec": {
      "name": "python3",
      "display_name": "Python 3"
    }
  },
  "cells": [
    {
      "cell_type": "markdown",
      "metadata": {
        "id": "view-in-github",
        "colab_type": "text"
      },
      "source": [
        "<a href=\"https://colab.research.google.com/github/szymbor2/ATMS-597-Project-4-Group-C/blob/master/project4.ipynb\" target=\"_parent\"><img src=\"https://colab.research.google.com/assets/colab-badge.svg\" alt=\"Open In Colab\"/></a>"
      ]
    },
    {
      "cell_type": "markdown",
      "metadata": {
        "id": "yO3amLYIvTjR",
        "colab_type": "text"
      },
      "source": [
        "# Imports"
      ]
    },
    {
      "cell_type": "markdown",
      "metadata": {
        "id": "eNOPQKvWvV8-",
        "colab_type": "text"
      },
      "source": [
        "Import Libraries"
      ]
    },
    {
      "cell_type": "code",
      "metadata": {
        "id": "aHABP3T2tqeI",
        "colab_type": "code",
        "colab": {
          "base_uri": "https://localhost:8080/",
          "height": 34
        },
        "outputId": "2b1cf96b-2372-41e8-967c-3b361f2a1b52"
      },
      "source": [
        "import tarfile\n",
        "import pandas as pd\n",
        "import os\n",
        "\n",
        "from google.colab import drive\n",
        "drive.mount('/content/drive')"
      ],
      "execution_count": 56,
      "outputs": [
        {
          "output_type": "stream",
          "text": [
            "Drive already mounted at /content/drive; to attempt to forcibly remount, call drive.mount(\"/content/drive\", force_remount=True).\n"
          ],
          "name": "stdout"
        }
      ]
    },
    {
      "cell_type": "markdown",
      "metadata": {
        "id": "hIpjQNvXvc6J",
        "colab_type": "text"
      },
      "source": [
        "Set Your Directory"
      ]
    },
    {
      "cell_type": "code",
      "metadata": {
        "id": "W_UolI2kvJ9Y",
        "colab_type": "code",
        "colab": {}
      },
      "source": [
        "YOUR_DIRECTORY = '/content/drive/My Drive/Colab Notebooks/ATMS597/project4/'"
      ],
      "execution_count": 0,
      "outputs": []
    },
    {
      "cell_type": "markdown",
      "metadata": {
        "id": "qJTBAVi9veNy",
        "colab_type": "text"
      },
      "source": [
        "Import GFS data and save to pd.DataFrame"
      ]
    },
    {
      "cell_type": "code",
      "metadata": {
        "id": "cxJsR6LYvuI1",
        "colab_type": "code",
        "colab": {
          "base_uri": "https://localhost:8080/",
          "height": 187
        },
        "outputId": "15d45bc8-52c0-4ec2-955b-676beef57d85"
      },
      "source": [
        "daily = tarfile.open(name = YOUR_DIRECTORY + 'daily.tar.gz') # Set the archive for opening\n",
        "\n",
        "# Aggregate to PD DataFrame\n",
        "cur_file = daily.next() # Initiate while loop using the first file in the tar archive\n",
        "daily_gfs = pd.DataFrame(columns=['TMAX', 'TMIN', 'WMAX', 'RTOT'])\n",
        "i = 0\n",
        "while cur_file != None:\n",
        "    i += 1\n",
        "    if i % 350 == 0:\n",
        "        print(float(i/3500))\n",
        "    working_file = YOUR_DIRECTORY + cur_file.name\n",
        "    daily.extract(cur_file, path=YOUR_DIRECTORY) # Extract TarInfo Object\n",
        "    convert_to_df = pd.read_csv(working_file, index_col=0) # Convert cur_file (TarInfo Object) to string, then to PD \n",
        "    daily_gfs = df.append(convert_to_df) # Append PD to DF\n",
        "    os.remove(working_file) # Remove file extracted in directory\n",
        "    cur_file = daily.next() # Go to next file in archive\n",
        "\n",
        "daily_gfs['TMAX'] = daily_gfs['TMAX'].apply(lambda x: (x*(9/5))).apply(lambda x: x+32) # Change TMAX to Celsius\n",
        "daily_gfs['TMIN'] = daily_gfs['TMIN'].apply(lambda x: (x*(9/5))).apply(lambda x: x+32) # Change TMIN to Celsius\n",
        "daily.close() # Close .tar"
      ],
      "execution_count": 90,
      "outputs": [
        {
          "output_type": "stream",
          "text": [
            "0.1\n",
            "0.2\n",
            "0.3\n",
            "0.4\n",
            "0.5\n",
            "0.6\n",
            "0.7\n",
            "0.8\n",
            "0.9\n",
            "1.0\n"
          ],
          "name": "stdout"
        }
      ]
    },
    {
      "cell_type": "code",
      "metadata": {
        "id": "dLBoEmO93ze_",
        "colab_type": "code",
        "colab": {
          "base_uri": "https://localhost:8080/",
          "height": 419
        },
        "outputId": "3b3d1109-abed-440b-a962-f3e092eba654"
      },
      "source": [
        "daily_gfs"
      ],
      "execution_count": 91,
      "outputs": [
        {
          "output_type": "execute_result",
          "data": {
            "text/html": [
              "<div>\n",
              "<style scoped>\n",
              "    .dataframe tbody tr th:only-of-type {\n",
              "        vertical-align: middle;\n",
              "    }\n",
              "\n",
              "    .dataframe tbody tr th {\n",
              "        vertical-align: top;\n",
              "    }\n",
              "\n",
              "    .dataframe thead th {\n",
              "        text-align: right;\n",
              "    }\n",
              "</style>\n",
              "<table border=\"1\" class=\"dataframe\">\n",
              "  <thead>\n",
              "    <tr style=\"text-align: right;\">\n",
              "      <th></th>\n",
              "      <th>TMAX</th>\n",
              "      <th>TMIN</th>\n",
              "      <th>WMAX</th>\n",
              "      <th>RTOT</th>\n",
              "    </tr>\n",
              "  </thead>\n",
              "  <tbody>\n",
              "    <tr>\n",
              "      <th>2010-01-01 12:00:00</th>\n",
              "      <td>11.732</td>\n",
              "      <td>2.372</td>\n",
              "      <td>7.323933</td>\n",
              "      <td>0.05</td>\n",
              "    </tr>\n",
              "    <tr>\n",
              "      <th>2010-01-02 12:00:00</th>\n",
              "      <td>13.712</td>\n",
              "      <td>3.272</td>\n",
              "      <td>4.687217</td>\n",
              "      <td>0.00</td>\n",
              "    </tr>\n",
              "    <tr>\n",
              "      <th>2010-01-03 12:00:00</th>\n",
              "      <td>14.072</td>\n",
              "      <td>6.152</td>\n",
              "      <td>5.941380</td>\n",
              "      <td>0.06</td>\n",
              "    </tr>\n",
              "    <tr>\n",
              "      <th>2010-01-04 12:00:00</th>\n",
              "      <td>16.772</td>\n",
              "      <td>8.852</td>\n",
              "      <td>5.685068</td>\n",
              "      <td>0.17</td>\n",
              "    </tr>\n",
              "    <tr>\n",
              "      <th>2010-01-05 12:00:00</th>\n",
              "      <td>19.112</td>\n",
              "      <td>12.092</td>\n",
              "      <td>3.794733</td>\n",
              "      <td>0.77</td>\n",
              "    </tr>\n",
              "    <tr>\n",
              "      <th>...</th>\n",
              "      <td>...</td>\n",
              "      <td>...</td>\n",
              "      <td>...</td>\n",
              "      <td>...</td>\n",
              "    </tr>\n",
              "    <tr>\n",
              "      <th>2020-01-27 12:00:00</th>\n",
              "      <td>33.512</td>\n",
              "      <td>29.732</td>\n",
              "      <td>1.984943</td>\n",
              "      <td>0.29</td>\n",
              "    </tr>\n",
              "    <tr>\n",
              "      <th>2020-01-28 12:00:00</th>\n",
              "      <td>34.592</td>\n",
              "      <td>27.392</td>\n",
              "      <td>2.319483</td>\n",
              "      <td>0.57</td>\n",
              "    </tr>\n",
              "    <tr>\n",
              "      <th>2020-01-29 12:00:00</th>\n",
              "      <td>36.212</td>\n",
              "      <td>27.572</td>\n",
              "      <td>1.802776</td>\n",
              "      <td>0.00</td>\n",
              "    </tr>\n",
              "    <tr>\n",
              "      <th>2020-01-30 12:00:00</th>\n",
              "      <td>37.112</td>\n",
              "      <td>30.092</td>\n",
              "      <td>2.121320</td>\n",
              "      <td>1.13</td>\n",
              "    </tr>\n",
              "    <tr>\n",
              "      <th>2020-01-31 12:00:00</th>\n",
              "      <td>37.832</td>\n",
              "      <td>32.432</td>\n",
              "      <td>6.835934</td>\n",
              "      <td>1.27</td>\n",
              "    </tr>\n",
              "  </tbody>\n",
              "</table>\n",
              "<p>3645 rows × 4 columns</p>\n",
              "</div>"
            ],
            "text/plain": [
              "                       TMAX    TMIN      WMAX  RTOT\n",
              "2010-01-01 12:00:00  11.732   2.372  7.323933  0.05\n",
              "2010-01-02 12:00:00  13.712   3.272  4.687217  0.00\n",
              "2010-01-03 12:00:00  14.072   6.152  5.941380  0.06\n",
              "2010-01-04 12:00:00  16.772   8.852  5.685068  0.17\n",
              "2010-01-05 12:00:00  19.112  12.092  3.794733  0.77\n",
              "...                     ...     ...       ...   ...\n",
              "2020-01-27 12:00:00  33.512  29.732  1.984943  0.29\n",
              "2020-01-28 12:00:00  34.592  27.392  2.319483  0.57\n",
              "2020-01-29 12:00:00  36.212  27.572  1.802776  0.00\n",
              "2020-01-30 12:00:00  37.112  30.092  2.121320  1.13\n",
              "2020-01-31 12:00:00  37.832  32.432  6.835934  1.27\n",
              "\n",
              "[3645 rows x 4 columns]"
            ]
          },
          "metadata": {
            "tags": []
          },
          "execution_count": 91
        }
      ]
    },
    {
      "cell_type": "markdown",
      "metadata": {
        "id": "PIDh60eWBYHX",
        "colab_type": "text"
      },
      "source": [
        "Import obs daily data"
      ]
    },
    {
      "cell_type": "code",
      "metadata": {
        "id": "8fPwxnGj42bB",
        "colab_type": "code",
        "colab": {
          "base_uri": "https://localhost:8080/",
          "height": 419
        },
        "outputId": "d8fe2b42-c3b0-416e-f167-1ef13f3c5510"
      },
      "source": [
        "daily_obs = pd.read_csv(YOUR_DIRECTORY + 'KCMI_daily.csv', header=4, usecols=[0,1,2,3,4])\n",
        "daily_obs"
      ],
      "execution_count": 100,
      "outputs": [
        {
          "output_type": "execute_result",
          "data": {
            "text/html": [
              "<div>\n",
              "<style scoped>\n",
              "    .dataframe tbody tr th:only-of-type {\n",
              "        vertical-align: middle;\n",
              "    }\n",
              "\n",
              "    .dataframe tbody tr th {\n",
              "        vertical-align: top;\n",
              "    }\n",
              "\n",
              "    .dataframe thead th {\n",
              "        text-align: right;\n",
              "    }\n",
              "</style>\n",
              "<table border=\"1\" class=\"dataframe\">\n",
              "  <thead>\n",
              "    <tr style=\"text-align: right;\">\n",
              "      <th></th>\n",
              "      <th>Date</th>\n",
              "      <th>Max Hourly Temp (F)</th>\n",
              "      <th>Min Hourly Temp (F)</th>\n",
              "      <th>Max Wind Speed (mph)</th>\n",
              "      <th>Total Precip (in)</th>\n",
              "    </tr>\n",
              "  </thead>\n",
              "  <tbody>\n",
              "    <tr>\n",
              "      <th>0</th>\n",
              "      <td>2010-01-01</td>\n",
              "      <td>12</td>\n",
              "      <td>2</td>\n",
              "      <td>15</td>\n",
              "      <td>M</td>\n",
              "    </tr>\n",
              "    <tr>\n",
              "      <th>1</th>\n",
              "      <td>2010-01-02</td>\n",
              "      <td>6</td>\n",
              "      <td>-5</td>\n",
              "      <td>15</td>\n",
              "      <td>0.00</td>\n",
              "    </tr>\n",
              "    <tr>\n",
              "      <th>2</th>\n",
              "      <td>2010-01-03</td>\n",
              "      <td>10</td>\n",
              "      <td>-6</td>\n",
              "      <td>11</td>\n",
              "      <td>0.00</td>\n",
              "    </tr>\n",
              "    <tr>\n",
              "      <th>3</th>\n",
              "      <td>2010-01-04</td>\n",
              "      <td>11</td>\n",
              "      <td>-2</td>\n",
              "      <td>20</td>\n",
              "      <td>0.00</td>\n",
              "    </tr>\n",
              "    <tr>\n",
              "      <th>4</th>\n",
              "      <td>2010-01-05</td>\n",
              "      <td>10</td>\n",
              "      <td>-1</td>\n",
              "      <td>16</td>\n",
              "      <td>M</td>\n",
              "    </tr>\n",
              "    <tr>\n",
              "      <th>...</th>\n",
              "      <td>...</td>\n",
              "      <td>...</td>\n",
              "      <td>...</td>\n",
              "      <td>...</td>\n",
              "      <td>...</td>\n",
              "    </tr>\n",
              "    <tr>\n",
              "      <th>3654</th>\n",
              "      <td>M = Missing</td>\n",
              "      <td>NaN</td>\n",
              "      <td>NaN</td>\n",
              "      <td>NaN</td>\n",
              "      <td>NaN</td>\n",
              "    </tr>\n",
              "    <tr>\n",
              "      <th>3655</th>\n",
              "      <td>NC = Not Calculated</td>\n",
              "      <td>NaN</td>\n",
              "      <td>NaN</td>\n",
              "      <td>NaN</td>\n",
              "      <td>NaN</td>\n",
              "    </tr>\n",
              "    <tr>\n",
              "      <th>3656</th>\n",
              "      <td>Midwestern Regional Climate Center</td>\n",
              "      <td>NaN</td>\n",
              "      <td>NaN</td>\n",
              "      <td>NaN</td>\n",
              "      <td>NaN</td>\n",
              "    </tr>\n",
              "    <tr>\n",
              "      <th>3657</th>\n",
              "      <td>cli-MATE: MRCC Application Tools Environment</td>\n",
              "      <td>NaN</td>\n",
              "      <td>NaN</td>\n",
              "      <td>NaN</td>\n",
              "      <td>NaN</td>\n",
              "    </tr>\n",
              "    <tr>\n",
              "      <th>3658</th>\n",
              "      <td>Generated at: 3/9/2020 9:27:23 AM CDT</td>\n",
              "      <td>NaN</td>\n",
              "      <td>NaN</td>\n",
              "      <td>NaN</td>\n",
              "      <td>NaN</td>\n",
              "    </tr>\n",
              "  </tbody>\n",
              "</table>\n",
              "<p>3659 rows × 5 columns</p>\n",
              "</div>"
            ],
            "text/plain": [
              "                                              Date  ... Total Precip (in)\n",
              "0                                       2010-01-01  ...                 M\n",
              "1                                       2010-01-02  ...              0.00\n",
              "2                                       2010-01-03  ...              0.00\n",
              "3                                       2010-01-04  ...              0.00\n",
              "4                                       2010-01-05  ...                 M\n",
              "...                                            ...  ...               ...\n",
              "3654                                   M = Missing  ...               NaN\n",
              "3655                           NC = Not Calculated  ...               NaN\n",
              "3656            Midwestern Regional Climate Center  ...               NaN\n",
              "3657  cli-MATE: MRCC Application Tools Environment  ...               NaN\n",
              "3658         Generated at: 3/9/2020 9:27:23 AM CDT  ...               NaN\n",
              "\n",
              "[3659 rows x 5 columns]"
            ]
          },
          "metadata": {
            "tags": []
          },
          "execution_count": 100
        }
      ]
    },
    {
      "cell_type": "code",
      "metadata": {
        "id": "X-YwzXGL--AJ",
        "colab_type": "code",
        "colab": {}
      },
      "source": [
        ""
      ],
      "execution_count": 0,
      "outputs": []
    }
  ]
}